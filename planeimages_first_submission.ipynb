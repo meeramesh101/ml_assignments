{
 "cells": [
  {
   "cell_type": "code",
   "execution_count": 1,
   "metadata": {},
   "outputs": [],
   "source": [
    "import numpy as np\n",
    "import pandas as pd\n",
    "import matplotlib.pyplot as plt\n",
    "import pickle\n",
    "import warnings\n",
    "warnings.filterwarnings(\"ignore\", message=\"numpy.ufunc size changed\")\n",
    "from skimage import io, color, transform, feature, filters\n",
    "from my_measures import BinaryClassificationPerformance  \n",
    "from sklearn.model_selection import train_test_split\n",
    "%matplotlib inline"
   ]
  },
  {
   "cell_type": "markdown",
   "metadata": {},
   "source": [
    "### IMPORTANT!!! Make sure you are using BinaryClassificationPerformance v1.03\n"
   ]
  },
  {
   "cell_type": "code",
   "execution_count": 2,
   "metadata": {},
   "outputs": [],
   "source": [
    "# help(BinaryClassificationPerformance)"
   ]
  },
  {
   "cell_type": "markdown",
   "metadata": {},
   "source": [
    "### file paths and names"
   ]
  },
  {
   "cell_type": "code",
   "execution_count": 3,
   "metadata": {},
   "outputs": [],
   "source": [
    "ci_path = '/Users/meeraramesh/Desktop/School/git/ml/final_assignment_2/plane_data/cropped_images/'\n",
    "l_file = '/Users/meeraramesh/Desktop/School/git/ml/final_assignment_2/plane_data/plane_labels.csv'"
   ]
  },
  {
   "cell_type": "markdown",
   "metadata": {},
   "source": [
    "# Function for feature building and extraction on photographs¶\n",
    "\n",
    "scikit-image documentation on methods used for feature extraction:  \n",
    "\n",
    "* http://scikit-image.org/docs/dev/api/skimage.color.html#rgb2gray  \n",
    "* http://scikit-image.org/docs/dev/api/skimage.transform.html#skimage.transform.resize  \n",
    "* http://scikit-image.org/docs/stable/api/skimage.feature.html#skimage.feature.canny"
   ]
  },
  {
   "cell_type": "code",
   "execution_count": 4,
   "metadata": {},
   "outputs": [],
   "source": [
    "# in downscaling the image, what do you want the new dimensions to be?\n",
    "# the original dimensions of cropped images: (60, 140), which if 8,400 pixels\n",
    "dims = (15, 35) # 25% of the original size, 525 pixels"
   ]
  },
  {
   "cell_type": "code",
   "execution_count": 5,
   "metadata": {},
   "outputs": [
    {
     "data": {
      "image/png": "[encoded data removed]",
      "text/plain": [
       "<Figure size 432x288 with 1 Axes>"
      ]
     },
     "metadata": {
      "needs_background": "light"
     },
     "output_type": "display_data"
    },
    {
     "name": "stdout",
     "output_type": "stream",
     "text": [
      "downscaled image shape: \n",
      "(15, 35)\n",
      "image representation (first row of pixels): \n",
      "[0.03595872 0.03672943 0.01629895 0.01279022 0.01254651 0.00897317\n",
      " 0.00523036 0.00277105 0.0025309  0.00349334 0.00502946 0.00652903\n",
      " 0.0062032  0.00346726 0.00199169 0.00260336 0.00416323 0.00709959\n",
      " 0.00751603 0.00737113 0.01142706 0.01309353 0.00919321 0.00459549\n",
      " 0.00226189 0.00313457 0.00847177 0.01947856 0.04009014 0.06964681\n",
      " 0.06974397 0.04294428 0.03509388 0.04756239 0.04235021]\n",
      "\n",
      "\n",
      "example of transformation: \n"
     ]
    }
   ],
   "source": [
    "def image_manipulation(imname, imgs_path, imview=False):\n",
    "    warnings.filterwarnings('ignore')\n",
    "    imname = imgs_path + imname + '.png'\n",
    "    img_raw = io.imread(imname, as_gray=True)\n",
    "    downscaled = transform.resize(img_raw, (dims[0], dims[1])) # downscale image\n",
    "    final_image = filters.hessian(downscaled) # hessian filter that \"can be used to detect continuous edges\"\n",
    "    final_image = feature.canny(final_image) # edge filter image with Canny algorithm\n",
    "    final_image = feature.corner_harris(downscaled, 2, 3, 0.04) # reduce to just corner features\n",
    "    \n",
    "    \n",
    "    if imview==True:\n",
    "        plt.figure()\n",
    "        plt.imshow(final_image, cmap='Greys')\n",
    "        plt.show()\n",
    "    warnings.filterwarnings('always')\n",
    "    return final_image\n",
    "\n",
    "# test the function, look at input/output\n",
    "# me: changed to matplotlib bc io.imshow doesn't work\n",
    "test_image = image_manipulation('2017-08-25T23+24+13_390Z', ci_path, True)\n",
    "print('downscaled image shape: ')\n",
    "print(test_image.shape)\n",
    "print('image representation (first row of pixels): ')\n",
    "print(test_image[0])\n",
    "print('\\n')\n",
    "print('example of transformation: ')"
   ]
  },
  {
   "cell_type": "markdown",
   "metadata": {},
   "source": [
    "for comparison, look at original image:"
   ]
  },
  {
   "cell_type": "markdown",
   "metadata": {},
   "source": [
    "# function to process raw images, resulting in training and test datasets"
   ]
  },
  {
   "cell_type": "code",
   "execution_count": 6,
   "metadata": {},
   "outputs": [],
   "source": [
    "# function that takes raw images and completes all preprocessing required before model fits\n",
    "def process_raw_data(labels_fn, images_fp, my_random_seed, imview=False, test=False):\n",
    "    plane_data = pd.read_csv(labels_fn) # read in photograph labels\n",
    "    print(\"First few lines of image labels: \")\n",
    "    print(plane_data.head())\n",
    "    print(\"Size of image label dataFrame: \")\n",
    "    print(plane_data.shape)\n",
    "        \n",
    "    # construct lists for features, labels, and a crosswalk reference to image names\n",
    "    features_list = []\n",
    "    if (not test):\n",
    "        y_list = []\n",
    "    imnames_list = []\n",
    "\n",
    "    for index, row in plane_data.iterrows():\n",
    "        new_img = image_manipulation(row['img_name'], images_fp)\n",
    "        features_list.append(new_img)\n",
    "        if (not test):\n",
    "            y_list.append(row['plane'])\n",
    "        imnames_list.append(row['img_name']) \n",
    "   \n",
    "    # convert the lists to ndarrays\n",
    "    features = np.asarray(features_list)\n",
    "    if (not test):\n",
    "        Y = np.asarray(y_list)\n",
    "    imgs = np.asarray(imnames_list)\n",
    "    print('Shape of original feature representation: ')\n",
    "    print(features.shape)\n",
    "\n",
    "    # flatten the images ndarray to one row per image\n",
    "    features_flat = features.reshape((features.shape[0], -1))\n",
    "\n",
    "    print('Shape of flat feature representation: ')\n",
    "    print(features_flat.shape)\n",
    "\n",
    "    if (not test):\n",
    "        print('Shape of Y: ')\n",
    "        print(Y.shape)\n",
    "\n",
    "        print('Number of images with planes: ')\n",
    "        print(Y.sum())\n",
    "    \n",
    "        # create train and test sets\n",
    "        data_train, data_test, y_train, y_test, imgs_train, imgs_test = train_test_split(features_flat, \n",
    "            Y, imgs, test_size = 0.25, random_state = my_random_seed)\n",
    "\n",
    "        print('Shape of training set: ')\n",
    "        print(y_train.shape)\n",
    "        print('Number of training images that contain an airplane: ')\n",
    "        print(y_train.sum())\n",
    "\n",
    "        print('Shape of test set: ')\n",
    "        print(y_test.shape)\n",
    "        print('Number of test images that contain an airplane: ')\n",
    "        print(y_test.sum())\n",
    "    \n",
    "    if (test):\n",
    "        X_submission_test = features_flat\n",
    "        print(\"Shape of X_test for submission:\")\n",
    "        print(X_submission_test.shape)\n",
    "        print('SUCCESS!')\n",
    "        return(X_submission_test, plane_data)\n",
    "    else: \n",
    "        print(\"Shape of data_train and data_test:\")\n",
    "        print(data_train.shape)\n",
    "        print(data_test.shape)\n",
    "        print(\"Shape of y_train and y_test:\")\n",
    "        print(y_train.shape)\n",
    "        print(y_test.shape)\n",
    "        print(\"Shape of imgs_train and imgs_test:\")\n",
    "        print(imgs_train.shape)\n",
    "        print(imgs_test.shape)\n",
    "        print('SUCCESS!')\n",
    "        return(data_train, data_test, y_train, y_test, imgs_train, imgs_test)\n"
   ]
  },
  {
   "cell_type": "code",
   "execution_count": 7,
   "metadata": {},
   "outputs": [
    {
     "name": "stdout",
     "output_type": "stream",
     "text": [
      "First few lines of image labels: \n",
      "                   img_name  plane\n",
      "0  2016-08-02T13+50+24_430Z  False\n",
      "1  2016-08-02T14+12+37_390Z  False\n",
      "2  2016-08-02T22+20+26_600Z  False\n",
      "3  2016-08-03T12+04+30_670Z  False\n",
      "4  2016-08-03T12+32+21_790Z  False\n",
      "Size of image label dataFrame: \n",
      "(6758, 2)\n",
      "Shape of original feature representation: \n",
      "(6758, 15, 35)\n",
      "Shape of flat feature representation: \n",
      "(6758, 525)\n",
      "Shape of Y: \n",
      "(6758,)\n",
      "Number of images with planes: \n",
      "101\n",
      "Shape of training set: \n",
      "(5068,)\n",
      "Number of training images that contain an airplane: \n",
      "80\n",
      "Shape of test set: \n",
      "(1690,)\n",
      "Number of test images that contain an airplane: \n",
      "21\n",
      "Shape of data_train and data_test:\n",
      "(5068, 525)\n",
      "(1690, 525)\n",
      "Shape of y_train and y_test:\n",
      "(5068,)\n",
      "(1690,)\n",
      "Shape of imgs_train and imgs_test:\n",
      "(5068,)\n",
      "(1690,)\n",
      "SUCCESS!\n"
     ]
    }
   ],
   "source": [
    "data_train, data_test, y_train, y_test, imgs_train, imgs_test = process_raw_data(l_file, ci_path, \n",
    "    my_random_seed=13, imview=False, test=False)"
   ]
  },
  {
   "cell_type": "markdown",
   "metadata": {},
   "source": [
    "# train Perceptron"
   ]
  },
  {
   "cell_type": "code",
   "execution_count": 8,
   "metadata": {},
   "outputs": [],
   "source": [
    "# # MODEL: Perceptron\n",
    "# from sklearn import linear_model\n",
    "# prc = linear_model.SGDClassifier(loss='perceptron')\n",
    "# prc.fit(data_train, y_train)\n",
    "\n",
    "# prc_performance = BinaryClassificationPerformance(prc.predict(data_train), y_train, 'prc')\n",
    "# prc_performance.compute_measures()\n",
    "# prc_performance.performance_measures['set'] = 'train'\n",
    "# print('TRAINING SET: ')\n",
    "# print(prc_performance.performance_measures)\n",
    "\n",
    "# prc_performance_test = BinaryClassificationPerformance(prc.predict(data_test), y_test, 'prc')\n",
    "# prc_performance_test.compute_measures()\n",
    "# prc_performance_test.performance_measures['set'] = 'test'\n",
    "# print('TEST SET: ')\n",
    "# print(prc_performance_test.performance_measures)\n",
    "\n",
    "# prc_performance_test.img_indices()\n",
    "# prc_img_indices_to_view = prc_performance_test.image_indices"
   ]
  },
  {
   "cell_type": "code",
   "execution_count": 9,
   "metadata": {},
   "outputs": [],
   "source": [
    "# def performance_examples(typ, measures):\n",
    "#     iiv = ''\n",
    "#     if typ == 'FP':\n",
    "#         iiv = typ + '_indices'\n",
    "#     elif typ == 'TP':\n",
    "#         iiv = typ + '_indices'\n",
    "#     elif typ == 'FN':\n",
    "#         iiv = typ + '_indices'\n",
    "#     else:\n",
    "#         raise ValueError('input must be \"TP\", \"FP\", or \"FN\"')\n",
    "#     for img in measures[iiv]:\n",
    "#         warnings.filterwarnings('ignore')    \n",
    "#         plt.figure()\n",
    "#         lookat = ci_path + imgs_test[img] + '.png' # location of original image\n",
    "#         io.imshow(lookat) # show original image\n",
    "#         plt.figure()\n",
    "#         #changed to matplotlib bc io.imshow doesn't work\n",
    "#         plt.imshow((data_test[img].reshape(dims[0], dims[1])), cmap='Greys') # show manipulation for feature representation\n",
    "#         plt.show() \n",
    "#         warnings.filterwarnings('always')"
   ]
  },
  {
   "cell_type": "markdown",
   "metadata": {},
   "source": [
    "# look at examples of Perceptron classifications"
   ]
  },
  {
   "cell_type": "markdown",
   "metadata": {},
   "source": [
    "## true positives"
   ]
  },
  {
   "cell_type": "code",
   "execution_count": 10,
   "metadata": {},
   "outputs": [],
   "source": [
    "# performance_examples('TP', prc_img_indices_to_view)"
   ]
  },
  {
   "cell_type": "markdown",
   "metadata": {},
   "source": [
    "## false positives"
   ]
  },
  {
   "cell_type": "code",
   "execution_count": 11,
   "metadata": {},
   "outputs": [],
   "source": [
    "# performance_examples('FP', prc_img_indices_to_view)"
   ]
  },
  {
   "cell_type": "markdown",
   "metadata": {},
   "source": [
    "## false negatives"
   ]
  },
  {
   "cell_type": "code",
   "execution_count": 12,
   "metadata": {},
   "outputs": [],
   "source": [
    "# performance_examples('FN', prc_img_indices_to_view)"
   ]
  },
  {
   "cell_type": "markdown",
   "metadata": {},
   "source": [
    "# train Multilayer Perceptron, a.k.a. neural network"
   ]
  },
  {
   "cell_type": "code",
   "execution_count": 13,
   "metadata": {
    "scrolled": true
   },
   "outputs": [
    {
     "name": "stdout",
     "output_type": "stream",
     "text": [
      "MLPClassifier(max_iter=1000)\n",
      "TRAINING SET 1: \n",
      "{'Pos': 80, 'Neg': 4988, 'TP': 80, 'TN': 4988, 'FP': 0, 'FN': 0, 'Accuracy': 1.0, 'Precision': 1.0, 'Recall': 1.0, 'desc': 'nn1', 'set': 'train'}\n",
      "TEST SET 1: \n",
      "{'Pos': 21, 'Neg': 1669, 'TP': 19, 'TN': 1657, 'FP': 12, 'FN': 2, 'Accuracy': 0.991715976331361, 'Precision': 0.6129032258064516, 'Recall': 0.9047619047619048, 'desc': 'nn1', 'set': 'test'}\n"
     ]
    }
   ],
   "source": [
    "# MODEL: Multi-layer Perceptron aka neural network\n",
    "# default\n",
    "from sklearn import neural_network\n",
    "nn1 = neural_network.MLPClassifier(max_iter=1000)\n",
    "print(nn1)\n",
    "nn1.fit(data_train, y_train)\n",
    "\n",
    "nn1_performance = BinaryClassificationPerformance(nn1.predict(data_train), y_train, 'nn1')\n",
    "nn1_performance.compute_measures()\n",
    "nn1_performance.performance_measures['set'] = 'train'\n",
    "print('TRAINING SET 1: ')\n",
    "print(nn1_performance.performance_measures)\n",
    "\n",
    "nn1_performance_test = BinaryClassificationPerformance(nn1.predict(data_test), y_test, 'nn1')\n",
    "nn1_performance_test.compute_measures()\n",
    "nn1_performance_test.performance_measures['set'] = 'test'\n",
    "print('TEST SET 1: ')\n",
    "print(nn1_performance_test.performance_measures)\n",
    "\n",
    "nn1_performance_test.img_indices()\n",
    "nn1_img_indices_to_view = nn1_performance_test.image_indices"
   ]
  },
  {
   "cell_type": "code",
   "execution_count": 14,
   "metadata": {},
   "outputs": [
    {
     "name": "stdout",
     "output_type": "stream",
     "text": [
      "MLPClassifier(hidden_layer_sizes=(100, 100), max_iter=1000)\n",
      "TRAINING SET 2: \n",
      "{'Pos': 80, 'Neg': 4988, 'TP': 80, 'TN': 4988, 'FP': 0, 'FN': 0, 'Accuracy': 1.0, 'Precision': 1.0, 'Recall': 1.0, 'desc': 'nn2', 'set': 'train'}\n",
      "TEST SET 2: \n",
      "{'Pos': 21, 'Neg': 1669, 'TP': 19, 'TN': 1661, 'FP': 8, 'FN': 2, 'Accuracy': 0.9940828402366864, 'Precision': 0.7037037037037037, 'Recall': 0.9047619047619048, 'desc': 'nn2', 'set': 'test'}\n"
     ]
    }
   ],
   "source": [
    "from sklearn import neural_network\n",
    "nn2 = neural_network.MLPClassifier(hidden_layer_sizes = (100,100), max_iter=1000)\n",
    "print(nn2)\n",
    "nn2.fit(data_train, y_train)\n",
    "\n",
    "nn2_performance = BinaryClassificationPerformance(nn2.predict(data_train), y_train, 'nn2')\n",
    "nn2_performance.compute_measures()\n",
    "nn2_performance.performance_measures['set'] = 'train'\n",
    "print('TRAINING SET 2: ')\n",
    "print(nn2_performance.performance_measures)\n",
    "\n",
    "nn2_performance_test = BinaryClassificationPerformance(nn2.predict(data_test), y_test, 'nn2')\n",
    "nn2_performance_test.compute_measures()\n",
    "nn2_performance_test.performance_measures['set'] = 'test'\n",
    "print('TEST SET 2: ')\n",
    "print(nn2_performance_test.performance_measures)\n",
    "\n",
    "nn2_performance_test.img_indices()\n",
    "nn2_img_indices_to_view = nn2_performance_test.image_indices"
   ]
  },
  {
   "cell_type": "code",
   "execution_count": 15,
   "metadata": {},
   "outputs": [
    {
     "name": "stdout",
     "output_type": "stream",
     "text": [
      "MLPClassifier(hidden_layer_sizes=(100, 100, 100), max_iter=1000)\n",
      "TRAINING SET 3: \n",
      "{'Pos': 80, 'Neg': 4988, 'TP': 80, 'TN': 4988, 'FP': 0, 'FN': 0, 'Accuracy': 1.0, 'Precision': 1.0, 'Recall': 1.0, 'desc': 'nn3', 'set': 'train'}\n",
      "TEST SET 3: \n",
      "{'Pos': 21, 'Neg': 1669, 'TP': 18, 'TN': 1664, 'FP': 5, 'FN': 3, 'Accuracy': 0.9952662721893492, 'Precision': 0.782608695652174, 'Recall': 0.8571428571428571, 'desc': 'nn3', 'set': 'test'}\n"
     ]
    }
   ],
   "source": [
    "from sklearn import neural_network\n",
    "nn3 = neural_network.MLPClassifier(hidden_layer_sizes = (100,100,100), max_iter=1000)\n",
    "print(nn3)\n",
    "nn3.fit(data_train, y_train)\n",
    "\n",
    "nn3_performance = BinaryClassificationPerformance(nn3.predict(data_train), y_train, 'nn3')\n",
    "nn3_performance.compute_measures()\n",
    "nn3_performance.performance_measures['set'] = 'train'\n",
    "print('TRAINING SET 3: ')\n",
    "print(nn3_performance.performance_measures)\n",
    "\n",
    "nn3_performance_test = BinaryClassificationPerformance(nn3.predict(data_test), y_test, 'nn3')\n",
    "nn3_performance_test.compute_measures()\n",
    "nn3_performance_test.performance_measures['set'] = 'test'\n",
    "print('TEST SET 3: ')\n",
    "print(nn3_performance_test.performance_measures)\n",
    "\n",
    "nn3_performance_test.img_indices()\n",
    "nn3_img_indices_to_view = nn3_performance_test.image_indices"
   ]
  },
  {
   "cell_type": "code",
   "execution_count": 16,
   "metadata": {},
   "outputs": [
    {
     "name": "stdout",
     "output_type": "stream",
     "text": [
      "MLPClassifier(hidden_layer_sizes=(100, 100, 100, 100), max_iter=1000)\n",
      "TRAINING SET 4: \n",
      "{'Pos': 80, 'Neg': 4988, 'TP': 80, 'TN': 4988, 'FP': 0, 'FN': 0, 'Accuracy': 1.0, 'Precision': 1.0, 'Recall': 1.0, 'desc': 'nn4', 'set': 'train'}\n",
      "TEST SET 4: \n",
      "{'Pos': 21, 'Neg': 1669, 'TP': 19, 'TN': 1663, 'FP': 6, 'FN': 2, 'Accuracy': 0.9952662721893492, 'Precision': 0.76, 'Recall': 0.9047619047619048, 'desc': 'nn4', 'set': 'test'}\n"
     ]
    }
   ],
   "source": [
    "from sklearn import neural_network\n",
    "nn4 = neural_network.MLPClassifier(hidden_layer_sizes = (100,100,100,100), max_iter=1000)\n",
    "print(nn4)\n",
    "nn4.fit(data_train, y_train)\n",
    "\n",
    "nn4_performance = BinaryClassificationPerformance(nn4.predict(data_train), y_train, 'nn4')\n",
    "nn4_performance.compute_measures()\n",
    "nn4_performance.performance_measures['set'] = 'train'\n",
    "print('TRAINING SET 4: ')\n",
    "print(nn4_performance.performance_measures)\n",
    "\n",
    "nn4_performance_test = BinaryClassificationPerformance(nn4.predict(data_test), y_test, 'nn4')\n",
    "nn4_performance_test.compute_measures()\n",
    "nn4_performance_test.performance_measures['set'] = 'test'\n",
    "print('TEST SET 4: ')\n",
    "print(nn4_performance_test.performance_measures)\n",
    "\n",
    "nn4_performance_test.img_indices()\n",
    "nn4_img_indices_to_view = nn4_performance_test.image_indices"
   ]
  },
  {
   "cell_type": "code",
   "execution_count": 17,
   "metadata": {},
   "outputs": [
    {
     "name": "stdout",
     "output_type": "stream",
     "text": [
      "MLPClassifier(hidden_layer_sizes=(100, 100, 100, 100, 100), max_iter=1000)\n",
      "TRAINING SET 5: \n",
      "{'Pos': 80, 'Neg': 4988, 'TP': 80, 'TN': 4988, 'FP': 0, 'FN': 0, 'Accuracy': 1.0, 'Precision': 1.0, 'Recall': 1.0, 'desc': 'nn5', 'set': 'train'}\n",
      "TEST SET 5: \n",
      "{'Pos': 21, 'Neg': 1669, 'TP': 19, 'TN': 1667, 'FP': 2, 'FN': 2, 'Accuracy': 0.9976331360946745, 'Precision': 0.9047619047619048, 'Recall': 0.9047619047619048, 'desc': 'nn5', 'set': 'test'}\n"
     ]
    }
   ],
   "source": [
    "from sklearn import neural_network\n",
    "nn5 = neural_network.MLPClassifier(hidden_layer_sizes = (100,100,100,100,100), max_iter=1000)\n",
    "print(nn5)\n",
    "nn5.fit(data_train, y_train)\n",
    "\n",
    "nn5_performance = BinaryClassificationPerformance(nn5.predict(data_train), y_train, 'nn5')\n",
    "nn5_performance.compute_measures()\n",
    "nn5_performance.performance_measures['set'] = 'train'\n",
    "print('TRAINING SET 5: ')\n",
    "print(nn5_performance.performance_measures)\n",
    "\n",
    "nn5_performance_test = BinaryClassificationPerformance(nn5.predict(data_test), y_test, 'nn5')\n",
    "nn5_performance_test.compute_measures()\n",
    "nn5_performance_test.performance_measures['set'] = 'test'\n",
    "print('TEST SET 5: ')\n",
    "print(nn5_performance_test.performance_measures)\n",
    "\n",
    "nn5_performance_test.img_indices()\n",
    "nn5_img_indices_to_view = nn5_performance_test.image_indices"
   ]
  },
  {
   "cell_type": "code",
   "execution_count": 18,
   "metadata": {},
   "outputs": [
    {
     "name": "stdout",
     "output_type": "stream",
     "text": [
      "MLPClassifier(hidden_layer_sizes=(50, 50, 50, 50, 50), max_iter=1000)\n",
      "TRAINING SET 6: \n",
      "{'Pos': 80, 'Neg': 4988, 'TP': 80, 'TN': 4988, 'FP': 0, 'FN': 0, 'Accuracy': 1.0, 'Precision': 1.0, 'Recall': 1.0, 'desc': 'nn6', 'set': 'train'}\n",
      "TEST SET 6: \n",
      "{'Pos': 21, 'Neg': 1669, 'TP': 19, 'TN': 1662, 'FP': 7, 'FN': 2, 'Accuracy': 0.9946745562130177, 'Precision': 0.7307692307692307, 'Recall': 0.9047619047619048, 'desc': 'nn6', 'set': 'test'}\n"
     ]
    }
   ],
   "source": [
    "from sklearn import neural_network\n",
    "nn6 = neural_network.MLPClassifier(hidden_layer_sizes = (50,50,50,50,50), max_iter=1000)\n",
    "print(nn6)\n",
    "nn6.fit(data_train, y_train)\n",
    "\n",
    "nn6_performance = BinaryClassificationPerformance(nn6.predict(data_train), y_train, 'nn6')\n",
    "nn6_performance.compute_measures()\n",
    "nn6_performance.performance_measures['set'] = 'train'\n",
    "print('TRAINING SET 6: ')\n",
    "print(nn6_performance.performance_measures)\n",
    "\n",
    "nn6_performance_test = BinaryClassificationPerformance(nn6.predict(data_test), y_test, 'nn6')\n",
    "nn6_performance_test.compute_measures()\n",
    "nn6_performance_test.performance_measures['set'] = 'test'\n",
    "print('TEST SET 6: ')\n",
    "print(nn6_performance_test.performance_measures)\n",
    "\n",
    "nn6_performance_test.img_indices()\n",
    "nn6_img_indices_to_view = nn6_performance_test.image_indices"
   ]
  },
  {
   "cell_type": "code",
   "execution_count": 19,
   "metadata": {},
   "outputs": [
    {
     "name": "stdout",
     "output_type": "stream",
     "text": [
      "MLPClassifier(hidden_layer_sizes=(500, 500, 500, 500, 500), max_iter=1000)\n",
      "TRAINING SET 7: \n",
      "{'Pos': 80, 'Neg': 4988, 'TP': 80, 'TN': 4988, 'FP': 0, 'FN': 0, 'Accuracy': 1.0, 'Precision': 1.0, 'Recall': 1.0, 'desc': 'nn7', 'set': 'train'}\n",
      "TEST SET 7: \n",
      "{'Pos': 21, 'Neg': 1669, 'TP': 19, 'TN': 1666, 'FP': 3, 'FN': 2, 'Accuracy': 0.9970414201183432, 'Precision': 0.8636363636363636, 'Recall': 0.9047619047619048, 'desc': 'nn7', 'set': 'test'}\n"
     ]
    }
   ],
   "source": [
    "from sklearn import neural_network\n",
    "nn7 = neural_network.MLPClassifier(hidden_layer_sizes = (500,500,500,500,500), max_iter=1000)\n",
    "print(nn7)\n",
    "nn7.fit(data_train, y_train)\n",
    "\n",
    "nn7_performance = BinaryClassificationPerformance(nn7.predict(data_train), y_train, 'nn7')\n",
    "nn7_performance.compute_measures()\n",
    "nn7_performance.performance_measures['set'] = 'train'\n",
    "print('TRAINING SET 7: ')\n",
    "print(nn7_performance.performance_measures)\n",
    "\n",
    "nn7_performance_test = BinaryClassificationPerformance(nn7.predict(data_test), y_test, 'nn7')\n",
    "nn7_performance_test.compute_measures()\n",
    "nn7_performance_test.performance_measures['set'] = 'test'\n",
    "print('TEST SET 7: ')\n",
    "print(nn7_performance_test.performance_measures)\n",
    "\n",
    "nn7_performance_test.img_indices()\n",
    "nn7_img_indices_to_view = nn7_performance_test.image_indices"
   ]
  },
  {
   "cell_type": "code",
   "execution_count": 20,
   "metadata": {},
   "outputs": [
    {
     "name": "stdout",
     "output_type": "stream",
     "text": [
      "MLPClassifier(hidden_layer_sizes=(100, 100, 100, 100, 100, 100, 100, 100, 100,\n",
      "                                  100),\n",
      "              max_iter=1000)\n",
      "TRAINING SET 8: \n",
      "{'Pos': 80, 'Neg': 4988, 'TP': 80, 'TN': 4988, 'FP': 0, 'FN': 0, 'Accuracy': 1.0, 'Precision': 1.0, 'Recall': 1.0, 'desc': 'nn8', 'set': 'train'}\n",
      "TEST SET 8: \n",
      "{'Pos': 21, 'Neg': 1669, 'TP': 19, 'TN': 1666, 'FP': 3, 'FN': 2, 'Accuracy': 0.9970414201183432, 'Precision': 0.8636363636363636, 'Recall': 0.9047619047619048, 'desc': 'nn8', 'set': 'test'}\n"
     ]
    }
   ],
   "source": [
    "from sklearn import neural_network\n",
    "nn8 = neural_network.MLPClassifier(hidden_layer_sizes = (100,100,100,100,100,100,100,100,100,100), max_iter=1000)\n",
    "print(nn8)\n",
    "nn8.fit(data_train, y_train)\n",
    "\n",
    "nn8_performance = BinaryClassificationPerformance(nn8.predict(data_train), y_train, 'nn8')\n",
    "nn8_performance.compute_measures()\n",
    "nn8_performance.performance_measures['set'] = 'train'\n",
    "print('TRAINING SET 8: ')\n",
    "print(nn8_performance.performance_measures)\n",
    "\n",
    "nn8_performance_test = BinaryClassificationPerformance(nn8.predict(data_test), y_test, 'nn8')\n",
    "nn8_performance_test.compute_measures()\n",
    "nn8_performance_test.performance_measures['set'] = 'test'\n",
    "print('TEST SET 8: ')\n",
    "print(nn8_performance_test.performance_measures)\n",
    "\n",
    "nn8_performance_test.img_indices()\n",
    "nn8_img_indices_to_view = nn8_performance_test.image_indices"
   ]
  },
  {
   "cell_type": "markdown",
   "metadata": {},
   "source": [
    "# look at examples of neural network classifications"
   ]
  },
  {
   "cell_type": "markdown",
   "metadata": {},
   "source": [
    "## true positives"
   ]
  },
  {
   "cell_type": "code",
   "execution_count": 21,
   "metadata": {},
   "outputs": [],
   "source": [
    "# performance_examples('TP', nn_img_indices_to_view)"
   ]
  },
  {
   "cell_type": "markdown",
   "metadata": {},
   "source": [
    "## false positives"
   ]
  },
  {
   "cell_type": "code",
   "execution_count": 22,
   "metadata": {},
   "outputs": [],
   "source": [
    "# performance_examples('FP', nn_img_indices_to_view)"
   ]
  },
  {
   "cell_type": "markdown",
   "metadata": {},
   "source": [
    "## false negatives"
   ]
  },
  {
   "cell_type": "code",
   "execution_count": 23,
   "metadata": {},
   "outputs": [],
   "source": [
    "# performance_examples('FN', nn_img_indices_to_view)"
   ]
  },
  {
   "cell_type": "markdown",
   "metadata": {},
   "source": [
    "# comparisons"
   ]
  },
  {
   "cell_type": "code",
   "execution_count": 24,
   "metadata": {},
   "outputs": [],
   "source": [
    "# list of fits to compare: \n",
    "final_fits = []\n",
    "# final_fits.append(prc_performance.performance_measures)\n",
    "# final_fits.append(prc_performance_test.performance_measures)\n",
    "final_fits.append(nn1_performance.performance_measures)\n",
    "final_fits.append(nn1_performance_test.performance_measures)\n",
    "\n",
    "final_fits.append(nn2_performance.performance_measures)\n",
    "final_fits.append(nn2_performance_test.performance_measures)\n",
    "\n",
    "final_fits.append(nn3_performance.performance_measures)\n",
    "final_fits.append(nn3_performance_test.performance_measures)\n",
    "\n",
    "final_fits.append(nn4_performance.performance_measures)\n",
    "final_fits.append(nn4_performance_test.performance_measures)\n",
    "\n",
    "final_fits.append(nn5_performance.performance_measures)\n",
    "final_fits.append(nn5_performance_test.performance_measures)\n",
    "\n",
    "final_fits.append(nn6_performance.performance_measures)\n",
    "final_fits.append(nn6_performance_test.performance_measures)\n",
    "\n",
    "final_fits.append(nn7_performance.performance_measures)\n",
    "final_fits.append(nn7_performance_test.performance_measures)\n",
    "\n",
    "final_fits.append(nn8_performance.performance_measures)\n",
    "final_fits.append(nn8_performance_test.performance_measures)"
   ]
  },
  {
   "cell_type": "code",
   "execution_count": 25,
   "metadata": {},
   "outputs": [
    {
     "data": {
      "image/png": "[encoded data removed]",
      "text/plain": [
       "<Figure size 720x720 with 1 Axes>"
      ]
     },
     "metadata": {
      "needs_background": "light"
     },
     "output_type": "display_data"
    }
   ],
   "source": [
    "plt.figure(figsize=(10,10))\n",
    "\n",
    "for fit in final_fits:\n",
    "    if fit['set'] == 'train':\n",
    "        color = 'co'\n",
    "    else:\n",
    "        color = 'ro'\n",
    "    plt.plot(fit['FP'] / fit['Neg'], \n",
    "             fit['TP'] / fit['Pos'], color, markersize=12)\n",
    "    plt.text(fit['FP'] / fit['Neg'], \n",
    "             fit['TP'] / fit['Pos'], fit['desc'] + ': ' + fit['set'], fontsize=16)\n",
    "plt.axis([0, .008, .85, 1])\n",
    "plt.title('ROC plot: test set')\n",
    "plt.xlabel('False positive rate')\n",
    "plt.ylabel('True positive rate')\n",
    "plt.show()"
   ]
  },
  {
   "cell_type": "code",
   "execution_count": 26,
   "metadata": {},
   "outputs": [
    {
     "name": "stdout",
     "output_type": "stream",
     "text": [
      "MLPClassifier(max_iter=1000)\n",
      "TEST SET 1: \n",
      "{'Pos': 21, 'Neg': 1669, 'TP': 19, 'TN': 1657, 'FP': 12, 'FN': 2, 'Accuracy': 0.991715976331361, 'Precision': 0.6129032258064516, 'Recall': 0.9047619047619048, 'desc': 'nn1', 'set': 'test'}\n",
      "\n",
      "MLPClassifier(hidden_layer_sizes=(100, 100), max_iter=1000)\n",
      "TEST SET 2: \n",
      "{'Pos': 21, 'Neg': 1669, 'TP': 19, 'TN': 1661, 'FP': 8, 'FN': 2, 'Accuracy': 0.9940828402366864, 'Precision': 0.7037037037037037, 'Recall': 0.9047619047619048, 'desc': 'nn2', 'set': 'test'}\n",
      "\n",
      "MLPClassifier(hidden_layer_sizes=(100, 100, 100), max_iter=1000)\n",
      "TEST SET 3: \n",
      "{'Pos': 21, 'Neg': 1669, 'TP': 18, 'TN': 1664, 'FP': 5, 'FN': 3, 'Accuracy': 0.9952662721893492, 'Precision': 0.782608695652174, 'Recall': 0.8571428571428571, 'desc': 'nn3', 'set': 'test'}\n",
      "\n",
      "MLPClassifier(hidden_layer_sizes=(100, 100, 100, 100), max_iter=1000)\n",
      "TEST SET 4: \n",
      "{'Pos': 21, 'Neg': 1669, 'TP': 19, 'TN': 1663, 'FP': 6, 'FN': 2, 'Accuracy': 0.9952662721893492, 'Precision': 0.76, 'Recall': 0.9047619047619048, 'desc': 'nn4', 'set': 'test'}\n",
      "\n",
      "MLPClassifier(hidden_layer_sizes=(100, 100, 100, 100, 100), max_iter=1000)\n",
      "TEST SET 5: \n",
      "{'Pos': 21, 'Neg': 1669, 'TP': 19, 'TN': 1667, 'FP': 2, 'FN': 2, 'Accuracy': 0.9976331360946745, 'Precision': 0.9047619047619048, 'Recall': 0.9047619047619048, 'desc': 'nn5', 'set': 'test'}\n",
      "\n",
      "MLPClassifier(hidden_layer_sizes=(50, 50, 50, 50, 50), max_iter=1000)\n",
      "TEST SET 6: \n",
      "{'Pos': 21, 'Neg': 1669, 'TP': 19, 'TN': 1662, 'FP': 7, 'FN': 2, 'Accuracy': 0.9946745562130177, 'Precision': 0.7307692307692307, 'Recall': 0.9047619047619048, 'desc': 'nn6', 'set': 'test'}\n",
      "\n",
      "MLPClassifier(hidden_layer_sizes=(500, 500, 500, 500, 500), max_iter=1000)\n",
      "TEST SET 7: \n",
      "{'Pos': 21, 'Neg': 1669, 'TP': 19, 'TN': 1666, 'FP': 3, 'FN': 2, 'Accuracy': 0.9970414201183432, 'Precision': 0.8636363636363636, 'Recall': 0.9047619047619048, 'desc': 'nn7', 'set': 'test'}\n",
      "\n",
      "MLPClassifier(hidden_layer_sizes=(100, 100, 100, 100, 100, 100, 100, 100, 100,\n",
      "                                  100),\n",
      "              max_iter=1000)\n",
      "TEST SET 8: \n",
      "{'Pos': 21, 'Neg': 1669, 'TP': 19, 'TN': 1666, 'FP': 3, 'FN': 2, 'Accuracy': 0.9970414201183432, 'Precision': 0.8636363636363636, 'Recall': 0.9047619047619048, 'desc': 'nn8', 'set': 'test'}\n",
      "\n"
     ]
    }
   ],
   "source": [
    "print(nn1)\n",
    "print('TEST SET 1: ')\n",
    "print(nn1_performance_test.performance_measures)\n",
    "print()\n",
    "\n",
    "print(nn2)\n",
    "print('TEST SET 2: ')\n",
    "print(nn2_performance_test.performance_measures)\n",
    "print()\n",
    "\n",
    "print(nn3)\n",
    "print('TEST SET 3: ')\n",
    "print(nn3_performance_test.performance_measures)\n",
    "print()\n",
    "\n",
    "print(nn4)\n",
    "print('TEST SET 4: ')\n",
    "print(nn4_performance_test.performance_measures)\n",
    "print()\n",
    "\n",
    "print(nn5)\n",
    "print('TEST SET 5: ')\n",
    "print(nn5_performance_test.performance_measures)\n",
    "print()\n",
    "\n",
    "print(nn6)\n",
    "print('TEST SET 6: ')\n",
    "print(nn6_performance_test.performance_measures)\n",
    "print()\n",
    "\n",
    "print(nn7)\n",
    "print('TEST SET 7: ')\n",
    "print(nn7_performance_test.performance_measures)\n",
    "print()\n",
    "\n",
    "print(nn8)\n",
    "print('TEST SET 8: ')\n",
    "print(nn8_performance_test.performance_measures)\n",
    "print()"
   ]
  },
  {
   "cell_type": "markdown",
   "metadata": {},
   "source": [
    "# SUBMISSION\n",
    "\n",
    "### file paths and names:"
   ]
  },
  {
   "cell_type": "code",
   "execution_count": 27,
   "metadata": {},
   "outputs": [],
   "source": [
    "submission_ci_path = '/Users/meeraramesh/Desktop/School/git/ml/final_assignment_2/test_data_for_grading/test_cropped_images/' # file path for cropped images for training\n",
    "submission_l_file = '/Users/meeraramesh/Desktop/School/git/ml/final_assignment_2/test_data_for_grading/test_plane_labels.csv' # file path and file name for csv with labels"
   ]
  },
  {
   "cell_type": "code",
   "execution_count": 28,
   "metadata": {},
   "outputs": [
    {
     "name": "stdout",
     "output_type": "stream",
     "text": [
      "First few lines of image labels: \n",
      "                   img_name\n",
      "0  2016-08-02T13+50+24_430Z\n",
      "1  2016-08-02T14+12+37_390Z\n",
      "2  2016-08-03T12+32+21_790Z\n",
      "3  2016-08-03T13+19+28_320Z\n",
      "4  2016-08-05T15+24+58_670Z\n",
      "Size of image label dataFrame: \n",
      "(1523, 1)\n",
      "Shape of original feature representation: \n",
      "(1523, 15, 35)\n",
      "Shape of flat feature representation: \n",
      "(1523, 525)\n",
      "Shape of X_test for submission:\n",
      "(1523, 525)\n",
      "SUCCESS!\n",
      "Number of rows in the submission test set (should be 1,523): \n"
     ]
    }
   ],
   "source": [
    "X_test_data, X_test_submission = process_raw_data(submission_l_file, submission_ci_path, my_random_seed=13, test=True)\n",
    "print(\"Number of rows in the submission test set (should be 1,523): \")"
   ]
  },
  {
   "cell_type": "markdown",
   "metadata": {},
   "source": [
    "### IMPORTANT CHECK: make sure that the number of columns in your training data is the same as the number of columns in this test submission!"
   ]
  },
  {
   "cell_type": "code",
   "execution_count": 29,
   "metadata": {},
   "outputs": [
    {
     "name": "stdout",
     "output_type": "stream",
     "text": [
      "(5068, 525)\n",
      "(1523, 525)\n"
     ]
    }
   ],
   "source": [
    "print(data_train.shape)\n",
    "print(X_test_data.shape)"
   ]
  },
  {
   "cell_type": "markdown",
   "metadata": {},
   "source": [
    "Both the training set and submission test set have 525 columns. Success!"
   ]
  },
  {
   "cell_type": "markdown",
   "metadata": {},
   "source": [
    "---\n",
    "\n",
    "Choose a *single* model for your submission. In this code, I am choosing the Perceptron model fit, which is in the prc object. But you should choose the model that is performing the best for you!"
   ]
  },
  {
   "cell_type": "code",
   "execution_count": 30,
   "metadata": {},
   "outputs": [
    {
     "name": "stdout",
     "output_type": "stream",
     "text": [
      "0.015101772816808929\n"
     ]
    }
   ],
   "source": [
    "# concatenate predictions to the id\n",
    "X_test_submission[\"prediction\"] = nn8.predict(X_test_data) #neural net w/ hidden_layer_sizes=(100, 100, 100, 100, 100, 100, 100, 100, 100, 100)\n",
    "# look at the proportion of positive predictions\n",
    "print(X_test_submission['prediction'].mean())"
   ]
  },
  {
   "cell_type": "markdown",
   "metadata": {},
   "source": [
    "This is the proportion of predictions that have predicted that there is an airplane in the image."
   ]
  },
  {
   "cell_type": "code",
   "execution_count": 31,
   "metadata": {},
   "outputs": [
    {
     "name": "stdout",
     "output_type": "stream",
     "text": [
      "(1523, 2)\n"
     ]
    }
   ],
   "source": [
    "print(X_test_submission.shape) # should be (1523, 2)"
   ]
  },
  {
   "cell_type": "code",
   "execution_count": 33,
   "metadata": {},
   "outputs": [],
   "source": [
    "# export submission file as pdf\n",
    "# CHANGE FILE PATH: \n",
    "X_test_submission.to_csv('/Users/meeraramesh/Desktop/airplane_submission1.csv', index=False)"
   ]
  }
 ],
 "metadata": {
  "kernelspec": {
   "display_name": "Python 3 (ipykernel)",
   "language": "python",
   "name": "python3"
  },
  "language_info": {
   "codemirror_mode": {
    "name": "ipython",
    "version": 3
   },
   "file_extension": ".py",
   "mimetype": "text/x-python",
   "name": "python",
   "nbconvert_exporter": "python",
   "pygments_lexer": "ipython3",
   "version": "3.9.7"
  }
 },
 "nbformat": 4,
 "nbformat_minor": 2
}
