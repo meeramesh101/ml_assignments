{
 "cells": [
  {
   "cell_type": "markdown",
   "metadata": {},
   "source": [
    "# Movie reviews\n",
    "\n",
    "This notebook takes you though a complete iteration of Machine Learning Assignment 1 - Movie reviews. The assignment details (including links to download the data) can be found [here](https://docs.google.com/document/d/1WGYw99e5q6j5V0Zrf2HveagU6URt_kVvdR8B9HYQ99E/edit?usp=sharing). "
   ]
  },
  {
   "cell_type": "code",
   "execution_count": 1,
   "metadata": {
    "scrolled": true
   },
   "outputs": [],
   "source": [
    "# all imports and magic commands\n",
    "import numpy as np\n",
    "import pandas as pd\n",
    "import matplotlib.pyplot as plt\n",
    "from my_measures import BinaryClassificationPerformance\n",
    "from sklearn.feature_extraction.text import HashingVectorizer\n",
    "from sklearn.feature_extraction.text import TfidfTransformer\n",
    "from scipy.sparse import csr_matrix, hstack\n",
    "from sklearn.preprocessing import StandardScaler\n",
    "from sklearn.model_selection import train_test_split\n",
    "%matplotlib inline"
   ]
  },
  {
   "cell_type": "markdown",
   "metadata": {},
   "source": [
    "# Function for feature building and extraction on natural language data"
   ]
  },
  {
   "cell_type": "code",
   "execution_count": 2,
   "metadata": {},
   "outputs": [],
   "source": [
    "# function that takes raw data and completes all preprocessing required before model fits\n",
    "def process_raw_data(fn, my_random_seed, test=False):\n",
    "    # read and summarize data\n",
    "    movie_data = pd.read_csv(fn, sep='\\t')\n",
    "#     print(\"movie_data is:\", type(movie_data))\n",
    "#     print(\"movie_data has\", movie_data.shape[0], \"rows and\", movie_data.shape[1], \"columns\", \"\\n\")\n",
    "#     print(\"the data types for each of the columns in movie_data:\")\n",
    "#     print(movie_data.dtypes, \"\\n\")\n",
    "#     print(\"the first 10 rows in movie_data:\")\n",
    "#     print(movie_data.head(5))\n",
    "    if (not test):\n",
    "        print(\"The rate of 'good' movie reviews in the dataset: \")\n",
    "        print(movie_data['sentiment'].mean())\n",
    "\n",
    "    # vectorize Bag of Words from review text; as sparse matrix\n",
    "    if (not test): # fit_transform()\n",
    "        hv = HashingVectorizer(n_features=2 ** 17, alternate_sign=False)\n",
    "        X_hv = hv.fit_transform(movie_data.review)\n",
    "        fitted_transformations.append(hv)\n",
    "        print(\"Shape of HashingVectorizer X:\")\n",
    "        print(X_hv.shape)\n",
    "    else: # transform() \n",
    "        X_hv = fitted_transformations[0].transform(movie_data.review)\n",
    "        print(\"Shape of HashingVectorizer X:\")\n",
    "        print(X_hv.shape) \n",
    "\n",
    "    # http://scikit-learn.org/stable/modules/generated/sklearn.feature_extraction.text.TfidfTransformer.html\n",
    "    if (not test):\n",
    "        transformer = TfidfTransformer()\n",
    "        X_tfidf = transformer.fit_transform(X_hv)\n",
    "        fitted_transformations.append(transformer)\n",
    "    else:\n",
    "        X_tfidf = fitted_transformations[1].transform(X_hv)\n",
    "    \n",
    "    # create additional quantitative features\n",
    "    \n",
    "    # CountVectorizer, modelled on HashingVectorizer above\n",
    "    from sklearn.feature_extraction.text import CountVectorizer\n",
    "    if (not test): # fit_transform()\n",
    "        cv = CountVectorizer(ngram_range=(1, 2))\n",
    "        X_cv = cv.fit_transform(movie_data.review)\n",
    "        fitted_transformations.append(cv)\n",
    "        print(\"Shape of CountVectorizer X:\")\n",
    "        print(X_cv.shape)\n",
    "    else: # transform() \n",
    "        X_cv = fitted_transformations[2].transform(movie_data.review)\n",
    "        print(\"Shape of CountVectorizer X:\")\n",
    "        print(X_cv.shape)\n",
    "    \n",
    "    #TfidfTransformer for CountVectorizer, modelled on TfidfTransformer for HashingVectorizer above    \n",
    "    if (not test):\n",
    "        transformer_cv = TfidfTransformer(sublinear_tf=True)\n",
    "        X_tfidf = transformer_cv.fit_transform(X_cv)\n",
    "        fitted_transformations.append(transformer_cv)\n",
    "    else:\n",
    "        X_tfidf = fitted_transformations[3].transform(X_cv) \n",
    "\n",
    "        \n",
    "    # features from Amazon.csv to add to feature set\n",
    "    movie_data['word_count'] = movie_data['review'].str.split(' ').str.len()\n",
    "    movie_data['punc_count'] = movie_data['review'].str.count(\"\\.\")\n",
    "\n",
    "    X_quant_features = movie_data[[\"word_count\", \"punc_count\"]]\n",
    "    print(\"Look at a few rows of the new quantitative features: \")\n",
    "    print(X_quant_features.head(10))\n",
    "    \n",
    "    # Combine all quantitative features into a single sparse matrix\n",
    "    X_quant_features_csr = csr_matrix(X_quant_features)\n",
    "    X_combined = hstack([X_tfidf, X_quant_features_csr])\n",
    "    X_matrix = csr_matrix(X_combined) # convert to sparse matrix\n",
    "    print(\"Size of combined bag of words and new quantitative variables matrix:\")\n",
    "    print(X_matrix.shape)\n",
    "    \n",
    "    # Create `X`, scaled matrix of features\n",
    "    # feature scaling\n",
    "    if (not test):\n",
    "        sc = StandardScaler(with_mean=False)\n",
    "        X = sc.fit_transform(X_matrix)\n",
    "        fitted_transformations.append(sc)\n",
    "        print(X.shape)\n",
    "        y = movie_data['sentiment']\n",
    "    else:\n",
    "        X = fitted_transformations[4].transform(X_matrix)\n",
    "        print(X.shape)\n",
    "    \n",
    "    # Create Training and Test Sets\n",
    "    # enter an integer for the random_state parameter; any integer will work\n",
    "    if (test):\n",
    "        X_submission_test = X\n",
    "        print(\"Shape of X_test for submission:\")\n",
    "        print(X_submission_test.shape)\n",
    "        print('SUCCESS!')\n",
    "        return(movie_data, X_submission_test)\n",
    "    else: \n",
    "        X_train, X_test, y_train, y_test, X_raw_train, X_raw_test = train_test_split(X, y, movie_data, test_size=0.2, random_state=my_random_seed)\n",
    "        print(\"Shape of X_train and X_test:\")\n",
    "        print(X_train.shape)\n",
    "        print(X_test.shape)\n",
    "        print(\"Shape of y_train and y_test:\")\n",
    "        print(y_train.shape)\n",
    "        print(y_test.shape)\n",
    "        print(\"Shape of X_raw_train and X_raw_test:\")\n",
    "        print(X_raw_train.shape)\n",
    "        print(X_raw_test.shape)\n",
    "        print('SUCCESS!')\n",
    "        return(X_train, X_test, y_train, y_test, X_raw_train, X_raw_test)"
   ]
  },
  {
   "cell_type": "markdown",
   "metadata": {},
   "source": [
    "# Create training and test sets from function"
   ]
  },
  {
   "cell_type": "code",
   "execution_count": 3,
   "metadata": {},
   "outputs": [
    {
     "name": "stdout",
     "output_type": "stream",
     "text": [
      "The rate of 'good' movie reviews in the dataset: \n",
      "0.5\n",
      "Shape of HashingVectorizer X:\n",
      "(25000, 131072)\n",
      "Shape of CountVectorizer X:\n",
      "(25000, 1513832)\n",
      "Look at a few rows of the new quantitative features: \n",
      "   word_count  punc_count\n",
      "0         433          20\n",
      "1         158          16\n",
      "2         378          20\n",
      "3         379           8\n",
      "4         367           9\n",
      "5          89           5\n",
      "6         112           9\n",
      "7         132           9\n",
      "8         163           7\n",
      "9          43           5\n",
      "Size of combined bag of words and new quantitative variables matrix:\n",
      "(25000, 1513834)\n",
      "(25000, 1513834)\n",
      "Shape of X_train and X_test:\n",
      "(20000, 1513834)\n",
      "(5000, 1513834)\n",
      "Shape of y_train and y_test:\n",
      "(20000,)\n",
      "(5000,)\n",
      "Shape of X_raw_train and X_raw_test:\n",
      "(20000, 5)\n",
      "(5000, 5)\n",
      "SUCCESS!\n",
      "Number of fits stored in `fitted_transformations` list: \n",
      "5\n"
     ]
    }
   ],
   "source": [
    "# create an empty list to store any use of fit_transform() to transform() later\n",
    "# it is a global list to store model and feature extraction fits\n",
    "fitted_transformations = []\n",
    "\n",
    "# CHANGE FILE PATH and my_random_seed number (any integer other than 74 will do): \n",
    "X_train, X_test, y_train, y_test, X_raw_train, X_raw_test = process_raw_data(fn='/Users/meeraramesh/Desktop/School/git/ml/final_assignment_1/moviereviews_train.tsv', my_random_seed=13)\n",
    "\n",
    "print(\"Number of fits stored in `fitted_transformations` list: \")\n",
    "print(len(fitted_transformations))"
   ]
  },
  {
   "cell_type": "markdown",
   "metadata": {},
   "source": [
    "# Fit (and tune) Various Models"
   ]
  },
  {
   "cell_type": "markdown",
   "metadata": {},
   "source": [
    "### MODEL: Ridge Regression Classifier"
   ]
  },
  {
   "cell_type": "code",
   "execution_count": 4,
   "metadata": {},
   "outputs": [
    {
     "name": "stdout",
     "output_type": "stream",
     "text": [
      "original\n",
      "{'Pos': 10002, 'Neg': 9998, 'TP': 10002, 'TN': 9998, 'FP': 0, 'FN': 0, 'Accuracy': 1.0, 'Precision': 1.0, 'Recall': 1.0, 'desc': 'rdg_original_train'}\n",
      "alpha1\n",
      "{'Pos': 10002, 'Neg': 9998, 'TP': 10002, 'TN': 9998, 'FP': 0, 'FN': 0, 'Accuracy': 1.0, 'Precision': 1.0, 'Recall': 1.0, 'desc': 'rdg_alpha1_train'}\n",
      "alpha2\n",
      "{'Pos': 10002, 'Neg': 9998, 'TP': 10002, 'TN': 9998, 'FP': 0, 'FN': 0, 'Accuracy': 1.0, 'Precision': 1.0, 'Recall': 1.0, 'desc': 'rdg_alpha2_train'}\n",
      "alpha3\n",
      "{'Pos': 10002, 'Neg': 9998, 'TP': 10002, 'TN': 9998, 'FP': 0, 'FN': 0, 'Accuracy': 1.0, 'Precision': 1.0, 'Recall': 1.0, 'desc': 'rdg_alpha3_train'}\n",
      "alpha4\n",
      "{'Pos': 10002, 'Neg': 9998, 'TP': 10002, 'TN': 9998, 'FP': 0, 'FN': 0, 'Accuracy': 1.0, 'Precision': 1.0, 'Recall': 1.0, 'desc': 'rdg_alpha4_train'}\n"
     ]
    }
   ],
   "source": [
    "from sklearn import linear_model\n",
    "\n",
    "rdg_original = linear_model.RidgeClassifier()\n",
    "rdg_original.fit(X_train, y_train)\n",
    "\n",
    "rdg_alpha1 = linear_model.RidgeClassifier(alpha=100000)\n",
    "rdg_alpha1.fit(X_train, y_train)\n",
    "\n",
    "rdg_alpha2 = linear_model.RidgeClassifier(alpha=400000)\n",
    "rdg_alpha2.fit(X_train, y_train)\n",
    "\n",
    "rdg_alpha3 = linear_model.RidgeClassifier(alpha=500000)\n",
    "rdg_alpha3.fit(X_train, y_train)\n",
    "\n",
    "rdg_alpha4 = linear_model.RidgeClassifier(alpha=1000000)\n",
    "rdg_alpha4.fit(X_train, y_train)\n",
    "\n",
    "rdg_performance_train_original = BinaryClassificationPerformance(rdg_original.predict(X_train), y_train, 'rdg_original_train')\n",
    "rdg_performance_train_original.compute_measures()\n",
    "print(\"original\") \n",
    "print(rdg_performance_train_original.performance_measures)\n",
    "\n",
    "rdg_performance_train_alpha1 = BinaryClassificationPerformance(rdg_alpha1.predict(X_train), y_train, 'rdg_alpha1_train')\n",
    "rdg_performance_train_alpha1.compute_measures()\n",
    "print(\"alpha1\")\n",
    "print(rdg_performance_train_alpha1.performance_measures)\n",
    "\n",
    "rdg_performance_train_alpha2 = BinaryClassificationPerformance(rdg_alpha2.predict(X_train), y_train, 'rdg_alpha2_train')\n",
    "rdg_performance_train_alpha2.compute_measures()\n",
    "print(\"alpha2\")\n",
    "print(rdg_performance_train_alpha2.performance_measures)\n",
    "\n",
    "rdg_performance_train_alpha3 = BinaryClassificationPerformance(rdg_alpha3.predict(X_train), y_train, 'rdg_alpha3_train')\n",
    "rdg_performance_train_alpha3.compute_measures()\n",
    "print(\"alpha3\")\n",
    "print(rdg_performance_train_alpha3.performance_measures)\n",
    "\n",
    "rdg_performance_train_alpha4 = BinaryClassificationPerformance(rdg_alpha4.predict(X_train), y_train, 'rdg_alpha4_train')\n",
    "rdg_performance_train_alpha4.compute_measures()\n",
    "print(\"alpha4\")\n",
    "print(rdg_performance_train_alpha4.performance_measures)\n",
    "\n",
    "# # graphs for alpha changes to ridge class on training set data\n",
    "# graphs = [rdg_performance_train_original, rdg_performance_train_alpha1, rdg_performance_train_alpha2, rdg_performance_train_alpha3, rdg_performance_train_alpha4]\n",
    "# # graphs = [rdg_performance_train_alpha3]\n",
    "\n",
    "# for graph in graphs:\n",
    "#     plt.plot(graph.performance_measures['FP'] / graph.performance_measures['Neg'], \n",
    "#              graph.performance_measures['TP'] / graph.performance_measures['Pos'], 'bo')\n",
    "#     plt.text(graph.performance_measures['FP'] / graph.performance_measures['Neg'], \n",
    "#              graph.performance_measures['TP'] / graph.performance_measures['Pos'], graph.desc)\n",
    "# plt.axis([0, 1, 0, 1])\n",
    "# plt.title('ROC plot: training set')\n",
    "# plt.xlabel('False positive rate')\n",
    "# plt.ylabel('True positive rate')\n",
    "# plt.show()"
   ]
  },
  {
   "cell_type": "markdown",
   "metadata": {},
   "source": [
    "---\n",
    "\n",
    "# <span style=\"color:red\">WARNING: Don't look at test set performance too much!</span>\n",
    "\n",
    "---\n",
    "\n",
    "The following cells show performance on your test set. Do not look at this too often! "
   ]
  },
  {
   "cell_type": "markdown",
   "metadata": {},
   "source": [
    "# Look at performance on the test set"
   ]
  },
  {
   "cell_type": "markdown",
   "metadata": {},
   "source": [
    "### MODEL: Ridge Regression Classifier"
   ]
  },
  {
   "cell_type": "code",
   "execution_count": 5,
   "metadata": {},
   "outputs": [
    {
     "name": "stdout",
     "output_type": "stream",
     "text": [
      "original, alpha = 1\n",
      "{'Pos': 2498, 'Neg': 2502, 'TP': 2298, 'TN': 2224, 'FP': 278, 'FN': 200, 'Accuracy': 0.9044, 'Precision': 0.8920807453416149, 'Recall': 0.9199359487590072, 'desc': 'rdg_original_test'}\n",
      "alpha1, alpha = 100000\n",
      "{'Pos': 2498, 'Neg': 2502, 'TP': 2291, 'TN': 2234, 'FP': 268, 'FN': 207, 'Accuracy': 0.905, 'Precision': 0.8952715904650254, 'Recall': 0.9171337069655725, 'desc': 'rdg_alpha1_test'}\n",
      "alpha2, alpha = 400000\n",
      "{'Pos': 2498, 'Neg': 2502, 'TP': 2276, 'TN': 2246, 'FP': 256, 'FN': 222, 'Accuracy': 0.9044, 'Precision': 0.8988941548183255, 'Recall': 0.911128903122498, 'desc': 'rdg_alpha2_test'}\n",
      "alpha3, alpha = 500000\n",
      "{'Pos': 2498, 'Neg': 2502, 'TP': 2273, 'TN': 2245, 'FP': 257, 'FN': 225, 'Accuracy': 0.9036, 'Precision': 0.8984189723320158, 'Recall': 0.9099279423538831, 'desc': 'rdg_alpha3_test'}\n",
      "alpha4, alpha = 1000000\n",
      "{'Pos': 2498, 'Neg': 2502, 'TP': 2261, 'TN': 2253, 'FP': 249, 'FN': 237, 'Accuracy': 0.9028, 'Precision': 0.900796812749004, 'Recall': 0.9051240992794235, 'desc': 'rdg_alpha4_test'}\n"
     ]
    },
    {
     "data": {
      "image/png": "[encoded data removed]",
      "text/plain": [
       "<Figure size 432x288 with 1 Axes>"
      ]
     },
     "metadata": {
      "needs_background": "light"
     },
     "output_type": "display_data"
    }
   ],
   "source": [
    "rdg_performance_test_original = BinaryClassificationPerformance(rdg_original.predict(X_test), y_test, 'rdg_original_test')\n",
    "rdg_performance_test_original.compute_measures()\n",
    "print(\"original, alpha = 1\")\n",
    "print(rdg_performance_test_original.performance_measures)\n",
    "\n",
    "rdg_performance_test_alpha1 = BinaryClassificationPerformance(rdg_alpha1.predict(X_test), y_test, 'rdg_alpha1_test')\n",
    "rdg_performance_test_alpha1.compute_measures()\n",
    "print(\"alpha1, alpha = 100000\")\n",
    "print(rdg_performance_test_alpha1.performance_measures)\n",
    "\n",
    "rdg_performance_test_alpha2 = BinaryClassificationPerformance(rdg_alpha2.predict(X_test), y_test, 'rdg_alpha2_test')\n",
    "rdg_performance_test_alpha2.compute_measures()\n",
    "print(\"alpha2, alpha = 400000\")\n",
    "print(rdg_performance_test_alpha2.performance_measures)\n",
    "\n",
    "rdg_performance_test_alpha3 = BinaryClassificationPerformance(rdg_alpha3.predict(X_test), y_test, 'rdg_alpha3_test')\n",
    "rdg_performance_test_alpha3.compute_measures()\n",
    "print(\"alpha3, alpha = 500000\")\n",
    "print(rdg_performance_test_alpha3.performance_measures)\n",
    "\n",
    "rdg_performance_test_alpha4 = BinaryClassificationPerformance(rdg_alpha4.predict(X_test), y_test, 'rdg_alpha4_test')\n",
    "rdg_performance_test_alpha4.compute_measures()\n",
    "print(\"alpha4, alpha = 1000000\")\n",
    "print(rdg_performance_test_alpha4.performance_measures)\n",
    "\n",
    "# graphs for alpha changes to ridge class on test set data\n",
    "graphs = [rdg_performance_test_original, rdg_performance_test_alpha1, rdg_performance_test_alpha2, rdg_performance_test_alpha3, rdg_performance_test_alpha4]\n",
    "# graphs = [rdg_performance_test_alpha3]\n",
    "\n",
    "for graph in graphs:\n",
    "    plt.plot(graph.performance_measures['FP'] / graph.performance_measures['Neg'], \n",
    "             graph.performance_measures['TP'] / graph.performance_measures['Pos'], 'bo')\n",
    "    plt.text(graph.performance_measures['FP'] / graph.performance_measures['Neg'], \n",
    "             graph.performance_measures['TP'] / graph.performance_measures['Pos'], graph.desc)\n",
    "plt.axis([.1, .13, .85, .95])\n",
    "plt.title('ROC plot: test set')\n",
    "plt.xlabel('False positive rate')\n",
    "plt.ylabel('True positive rate')\n",
    "plt.show()"
   ]
  },
  {
   "cell_type": "markdown",
   "metadata": {},
   "source": [
    "---\n",
    "\n",
    "# <span style=\"color:red\">SUBMISSION</span>\n",
    "\n",
    "---"
   ]
  },
  {
   "cell_type": "code",
   "execution_count": 6,
   "metadata": {},
   "outputs": [
    {
     "name": "stdout",
     "output_type": "stream",
     "text": [
      "Number of rows in the submission test set (should be 25,000): \n",
      "Shape of HashingVectorizer X:\n",
      "(25000, 131072)\n",
      "Shape of CountVectorizer X:\n",
      "(25000, 1513832)\n",
      "Look at a few rows of the new quantitative features: \n",
      "   word_count  punc_count\n",
      "0         131           5\n",
      "1         169          15\n",
      "2         176          18\n",
      "3         112           5\n",
      "4         133           8\n",
      "5         331          20\n",
      "6         121          18\n",
      "7         230          22\n",
      "8          59           3\n",
      "9         224          14\n",
      "Size of combined bag of words and new quantitative variables matrix:\n",
      "(25000, 1513834)\n",
      "(25000, 1513834)\n",
      "Shape of X_test for submission:\n",
      "(25000, 1513834)\n",
      "SUCCESS!\n"
     ]
    }
   ],
   "source": [
    "# read in test data for submission\n",
    "# CHANGE FILE PATH and my_random_seed number (any integer other than 74 will do): \n",
    "print(\"Number of rows in the submission test set (should be 25,000): \")\n",
    "raw_data, X_test_submission = process_raw_data(fn='/Users/meeraramesh/Desktop/School/git/ml/final_assignment_1/moviereviews_test.tsv', my_random_seed=13, test=True)"
   ]
  },
  {
   "cell_type": "markdown",
   "metadata": {},
   "source": [
    "---\n",
    "\n",
    "Choose a <span style=\"color:red\">*single*</span> model for your submission. In this code, I am choosing the Ordinary Least Squares model fit, which is in the `ols` object. But you should choose the model that is performing the best for you! "
   ]
  },
  {
   "cell_type": "code",
   "execution_count": 7,
   "metadata": {},
   "outputs": [
    {
     "name": "stdout",
     "output_type": "stream",
     "text": [
      "0.49676\n"
     ]
    }
   ],
   "source": [
    "# store the id from the raw data\n",
    "my_submission = pd.DataFrame(raw_data[\"id\"])\n",
    "# concatenate predictions to the id\n",
    "my_submission[\"prediction\"] = rdg_alpha1.predict(X_test_submission)\n",
    "# look at the proportion of positive predictions\n",
    "print(my_submission['prediction'].mean())"
   ]
  },
  {
   "cell_type": "code",
   "execution_count": 8,
   "metadata": {},
   "outputs": [
    {
     "data": {
      "text/html": [
       "<div>\n",
       "<style scoped>\n",
       "    .dataframe tbody tr th:only-of-type {\n",
       "        vertical-align: middle;\n",
       "    }\n",
       "\n",
       "    .dataframe tbody tr th {\n",
       "        vertical-align: top;\n",
       "    }\n",
       "\n",
       "    .dataframe thead th {\n",
       "        text-align: right;\n",
       "    }\n",
       "</style>\n",
       "<table border=\"1\" class=\"dataframe\">\n",
       "  <thead>\n",
       "    <tr style=\"text-align: right;\">\n",
       "      <th></th>\n",
       "      <th>id</th>\n",
       "      <th>review</th>\n",
       "      <th>word_count</th>\n",
       "      <th>punc_count</th>\n",
       "    </tr>\n",
       "  </thead>\n",
       "  <tbody>\n",
       "    <tr>\n",
       "      <th>0</th>\n",
       "      <td>12311_10</td>\n",
       "      <td>Naturally in a film who's main themes are of m...</td>\n",
       "      <td>131</td>\n",
       "      <td>5</td>\n",
       "    </tr>\n",
       "    <tr>\n",
       "      <th>1</th>\n",
       "      <td>8348_2</td>\n",
       "      <td>This movie is a disaster within a disaster fil...</td>\n",
       "      <td>169</td>\n",
       "      <td>15</td>\n",
       "    </tr>\n",
       "    <tr>\n",
       "      <th>2</th>\n",
       "      <td>5828_4</td>\n",
       "      <td>All in all, this is a movie for kids. We saw i...</td>\n",
       "      <td>176</td>\n",
       "      <td>18</td>\n",
       "    </tr>\n",
       "    <tr>\n",
       "      <th>3</th>\n",
       "      <td>7186_2</td>\n",
       "      <td>Afraid of the Dark left me with the impression...</td>\n",
       "      <td>112</td>\n",
       "      <td>5</td>\n",
       "    </tr>\n",
       "    <tr>\n",
       "      <th>4</th>\n",
       "      <td>12128_7</td>\n",
       "      <td>A very accurate depiction of small time mob li...</td>\n",
       "      <td>133</td>\n",
       "      <td>8</td>\n",
       "    </tr>\n",
       "  </tbody>\n",
       "</table>\n",
       "</div>"
      ],
      "text/plain": [
       "         id                                             review  word_count  \\\n",
       "0  12311_10  Naturally in a film who's main themes are of m...         131   \n",
       "1    8348_2  This movie is a disaster within a disaster fil...         169   \n",
       "2    5828_4  All in all, this is a movie for kids. We saw i...         176   \n",
       "3    7186_2  Afraid of the Dark left me with the impression...         112   \n",
       "4   12128_7  A very accurate depiction of small time mob li...         133   \n",
       "\n",
       "   punc_count  \n",
       "0           5  \n",
       "1          15  \n",
       "2          18  \n",
       "3           5  \n",
       "4           8  "
      ]
     },
     "execution_count": 8,
     "metadata": {},
     "output_type": "execute_result"
    }
   ],
   "source": [
    "raw_data.head()"
   ]
  },
  {
   "cell_type": "code",
   "execution_count": 9,
   "metadata": {},
   "outputs": [
    {
     "data": {
      "text/html": [
       "<div>\n",
       "<style scoped>\n",
       "    .dataframe tbody tr th:only-of-type {\n",
       "        vertical-align: middle;\n",
       "    }\n",
       "\n",
       "    .dataframe tbody tr th {\n",
       "        vertical-align: top;\n",
       "    }\n",
       "\n",
       "    .dataframe thead th {\n",
       "        text-align: right;\n",
       "    }\n",
       "</style>\n",
       "<table border=\"1\" class=\"dataframe\">\n",
       "  <thead>\n",
       "    <tr style=\"text-align: right;\">\n",
       "      <th></th>\n",
       "      <th>id</th>\n",
       "      <th>prediction</th>\n",
       "    </tr>\n",
       "  </thead>\n",
       "  <tbody>\n",
       "    <tr>\n",
       "      <th>0</th>\n",
       "      <td>12311_10</td>\n",
       "      <td>1</td>\n",
       "    </tr>\n",
       "    <tr>\n",
       "      <th>1</th>\n",
       "      <td>8348_2</td>\n",
       "      <td>0</td>\n",
       "    </tr>\n",
       "    <tr>\n",
       "      <th>2</th>\n",
       "      <td>5828_4</td>\n",
       "      <td>1</td>\n",
       "    </tr>\n",
       "    <tr>\n",
       "      <th>3</th>\n",
       "      <td>7186_2</td>\n",
       "      <td>0</td>\n",
       "    </tr>\n",
       "    <tr>\n",
       "      <th>4</th>\n",
       "      <td>12128_7</td>\n",
       "      <td>1</td>\n",
       "    </tr>\n",
       "  </tbody>\n",
       "</table>\n",
       "</div>"
      ],
      "text/plain": [
       "         id  prediction\n",
       "0  12311_10           1\n",
       "1    8348_2           0\n",
       "2    5828_4           1\n",
       "3    7186_2           0\n",
       "4   12128_7           1"
      ]
     },
     "execution_count": 9,
     "metadata": {},
     "output_type": "execute_result"
    }
   ],
   "source": [
    "my_submission.head()"
   ]
  },
  {
   "cell_type": "code",
   "execution_count": 10,
   "metadata": {},
   "outputs": [
    {
     "data": {
      "text/plain": [
       "(25000, 2)"
      ]
     },
     "execution_count": 10,
     "metadata": {},
     "output_type": "execute_result"
    }
   ],
   "source": [
    "my_submission.shape"
   ]
  },
  {
   "cell_type": "code",
   "execution_count": 11,
   "metadata": {},
   "outputs": [],
   "source": [
    "# export submission file as pdf\n",
    "# CHANGE FILE PATH: \n",
    "my_submission.to_csv('/Users/meeraramesh/Desktop/moviereviews_second_submission.csv', index=False)"
   ]
  },
  {
   "cell_type": "markdown",
   "metadata": {},
   "source": [
    "# Submit to Canvas: 1) the CSV file that was written in the previous cell and 2) the url to the repository (GitHub or other) that contains your code and documentation"
   ]
  },
  {
   "cell_type": "markdown",
   "metadata": {},
   "source": [
    "Submission 1 Results"
   ]
  },
  {
   "cell_type": "code",
   "execution_count": 12,
   "metadata": {},
   "outputs": [],
   "source": [
    "# Pos': 12500, 'Neg': 12500, 'TP': 10855, 'TN': 11029, 'FP': 1471, 'FN': 1645, 'pos': 0.5, 'neg': 0.5, 'clr': 1.0, 'acc': 0.87536, 'err': 0.12463999999999997, 'tpr': 0.8684, 'tnr': 0.88232, 'fpr': 0.11768, 'fnr': 0.1316, 'prec': 0.8806587700795068, 'name': 'meera'"
   ]
  }
 ],
 "metadata": {
  "kernelspec": {
   "display_name": "Python 3 (ipykernel)",
   "language": "python",
   "name": "python3"
  },
  "language_info": {
   "codemirror_mode": {
    "name": "ipython",
    "version": 3
   },
   "file_extension": ".py",
   "mimetype": "text/x-python",
   "name": "python",
   "nbconvert_exporter": "python",
   "pygments_lexer": "ipython3",
   "version": "3.9.7"
  }
 },
 "nbformat": 4,
 "nbformat_minor": 2
}
