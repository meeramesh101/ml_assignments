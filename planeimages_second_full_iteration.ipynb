{
 "cells": [
  {
   "cell_type": "code",
   "execution_count": 1,
   "metadata": {},
   "outputs": [],
   "source": [
    "import numpy as np\n",
    "import pandas as pd\n",
    "import matplotlib.pyplot as plt\n",
    "import pickle\n",
    "import warnings\n",
    "warnings.filterwarnings(\"ignore\", message=\"numpy.ufunc size changed\")\n",
    "from skimage import io, color, transform, feature, filters\n",
    "from my_measures import BinaryClassificationPerformance  \n",
    "from sklearn.model_selection import train_test_split\n",
    "%matplotlib inline"
   ]
  },
  {
   "cell_type": "markdown",
   "metadata": {},
   "source": [
    "### IMPORTANT!!! Make sure you are using BinaryClassificationPerformance v1.03\n"
   ]
  },
  {
   "cell_type": "code",
   "execution_count": 2,
   "metadata": {},
   "outputs": [],
   "source": [
    "# help(BinaryClassificationPerformance)"
   ]
  },
  {
   "cell_type": "markdown",
   "metadata": {},
   "source": [
    "### file paths and names"
   ]
  },
  {
   "cell_type": "code",
   "execution_count": 3,
   "metadata": {},
   "outputs": [],
   "source": [
    "ci_path = '/Users/meeraramesh/Desktop/School/git/ml/final_assignment_2/plane_data/cropped_images/'\n",
    "l_file = '/Users/meeraramesh/Desktop/School/git/ml/final_assignment_2/plane_data/plane_labels.csv'"
   ]
  },
  {
   "cell_type": "markdown",
   "metadata": {},
   "source": [
    "# Function for feature building and extraction on photographs¶\n",
    "\n",
    "scikit-image documentation on methods used for feature extraction:  \n",
    "\n",
    "* http://scikit-image.org/docs/dev/api/skimage.color.html#rgb2gray  \n",
    "* http://scikit-image.org/docs/dev/api/skimage.transform.html#skimage.transform.resize  \n",
    "* http://scikit-image.org/docs/stable/api/skimage.feature.html#skimage.feature.canny"
   ]
  },
  {
   "cell_type": "code",
   "execution_count": 4,
   "metadata": {},
   "outputs": [],
   "source": [
    "# in downscaling the image, what do you want the new dimensions to be?\n",
    "# the original dimensions of cropped images: (60, 140), which if 8,400 pixels\n",
    "dims = (15, 35) # 25% of the original size, 525 pixels"
   ]
  },
  {
   "cell_type": "code",
   "execution_count": 5,
   "metadata": {},
   "outputs": [
    {
     "data": {
      "image/png": "[encoded data removed]",
      "text/plain": [
       "<Figure size 432x288 with 1 Axes>"
      ]
     },
     "metadata": {
      "needs_background": "light"
     },
     "output_type": "display_data"
    },
    {
     "name": "stdout",
     "output_type": "stream",
     "text": [
      "downscaled image shape: \n",
      "(15, 35)\n",
      "image representation (first row of pixels): \n",
      "[0.03595872 0.03672943 0.01629895 0.01279022 0.01254651 0.00897317\n",
      " 0.00523036 0.00277105 0.0025309  0.00349334 0.00502946 0.00652903\n",
      " 0.0062032  0.00346726 0.00199169 0.00260336 0.00416323 0.00709959\n",
      " 0.00751603 0.00737113 0.01142706 0.01309353 0.00919321 0.00459549\n",
      " 0.00226189 0.00313457 0.00847177 0.01947856 0.04009014 0.06964681\n",
      " 0.06974397 0.04294428 0.03509388 0.04756239 0.04235021]\n",
      "\n",
      "\n",
      "example of transformation: \n"
     ]
    }
   ],
   "source": [
    "def image_manipulation(imname, imgs_path, imview=False):\n",
    "    warnings.filterwarnings('ignore')\n",
    "    imname = imgs_path + imname + '.png'\n",
    "    img_raw = io.imread(imname, as_gray=True)\n",
    "    downscaled = transform.resize(img_raw, (dims[0], dims[1])) # downscale image\n",
    "    final_image = filters.hessian(downscaled) # hessian filter that \"can be used to detect continuous edges\"\n",
    "    final_image = feature.canny(final_image) # edge filter image with Canny algorithm\n",
    "    final_image = feature.corner_harris(downscaled, 2, 4, 0.04) # reduce to just corner features, change from 3 to 4 \n",
    "    \n",
    "    if imview==True:\n",
    "        plt.figure()\n",
    "        plt.imshow(final_image, cmap='Greys')\n",
    "        plt.show()\n",
    "    warnings.filterwarnings('always')\n",
    "    return final_image\n",
    "\n",
    "# test the function, look at input/output\n",
    "# me: changed to matplotlib bc io.imshow doesn't work\n",
    "test_image = image_manipulation('2017-08-25T23+24+13_390Z', ci_path, True)\n",
    "print('downscaled image shape: ')\n",
    "print(test_image.shape)\n",
    "print('image representation (first row of pixels): ')\n",
    "print(test_image[0])\n",
    "print('\\n')\n",
    "print('example of transformation: ')"
   ]
  },
  {
   "cell_type": "markdown",
   "metadata": {},
   "source": [
    "for comparison, look at original image:"
   ]
  },
  {
   "cell_type": "markdown",
   "metadata": {},
   "source": [
    "# function to process raw images, resulting in training and test datasets"
   ]
  },
  {
   "cell_type": "code",
   "execution_count": 6,
   "metadata": {},
   "outputs": [],
   "source": [
    "# function that takes raw images and completes all preprocessing required before model fits\n",
    "def process_raw_data(labels_fn, images_fp, my_random_seed, imview=False, test=False):\n",
    "    plane_data = pd.read_csv(labels_fn) # read in photograph labels\n",
    "    print(\"First few lines of image labels: \")\n",
    "    print(plane_data.head())\n",
    "    print(\"Size of image label dataFrame: \")\n",
    "    print(plane_data.shape)\n",
    "        \n",
    "    # construct lists for features, labels, and a crosswalk reference to image names\n",
    "    features_list = []\n",
    "    if (not test):\n",
    "        y_list = []\n",
    "    imnames_list = []\n",
    "\n",
    "    for index, row in plane_data.iterrows():\n",
    "        new_img = image_manipulation(row['img_name'], images_fp)\n",
    "        features_list.append(new_img)\n",
    "        if (not test):\n",
    "            y_list.append(row['plane'])\n",
    "        imnames_list.append(row['img_name']) \n",
    "   \n",
    "    # convert the lists to ndarrays\n",
    "    features = np.asarray(features_list)\n",
    "    if (not test):\n",
    "        Y = np.asarray(y_list)\n",
    "    imgs = np.asarray(imnames_list)\n",
    "    print('Shape of original feature representation: ')\n",
    "    print(features.shape)\n",
    "\n",
    "    # flatten the images ndarray to one row per image\n",
    "    features_flat = features.reshape((features.shape[0], -1))\n",
    "\n",
    "    print('Shape of flat feature representation: ')\n",
    "    print(features_flat.shape)\n",
    "\n",
    "    if (not test):\n",
    "        print('Shape of Y: ')\n",
    "        print(Y.shape)\n",
    "\n",
    "        print('Number of images with planes: ')\n",
    "        print(Y.sum())\n",
    "    \n",
    "        # create train and test sets\n",
    "        data_train, data_test, y_train, y_test, imgs_train, imgs_test = train_test_split(features_flat, \n",
    "            Y, imgs, test_size = 0.25, random_state = my_random_seed)\n",
    "\n",
    "        print('Shape of training set: ')\n",
    "        print(y_train.shape)\n",
    "        print('Number of training images that contain an airplane: ')\n",
    "        print(y_train.sum())\n",
    "\n",
    "        print('Shape of test set: ')\n",
    "        print(y_test.shape)\n",
    "        print('Number of test images that contain an airplane: ')\n",
    "        print(y_test.sum())\n",
    "    \n",
    "    if (test):\n",
    "        X_submission_test = features_flat\n",
    "        print(\"Shape of X_test for submission:\")\n",
    "        print(X_submission_test.shape)\n",
    "        print('SUCCESS!')\n",
    "        return(X_submission_test, plane_data)\n",
    "    else: \n",
    "        print(\"Shape of data_train and data_test:\")\n",
    "        print(data_train.shape)\n",
    "        print(data_test.shape)\n",
    "        print(\"Shape of y_train and y_test:\")\n",
    "        print(y_train.shape)\n",
    "        print(y_test.shape)\n",
    "        print(\"Shape of imgs_train and imgs_test:\")\n",
    "        print(imgs_train.shape)\n",
    "        print(imgs_test.shape)\n",
    "        print('SUCCESS!')\n",
    "        return(data_train, data_test, y_train, y_test, imgs_train, imgs_test)\n"
   ]
  },
  {
   "cell_type": "code",
   "execution_count": 7,
   "metadata": {},
   "outputs": [
    {
     "name": "stdout",
     "output_type": "stream",
     "text": [
      "First few lines of image labels: \n",
      "                   img_name  plane\n",
      "0  2016-08-02T13+50+24_430Z  False\n",
      "1  2016-08-02T14+12+37_390Z  False\n",
      "2  2016-08-02T22+20+26_600Z  False\n",
      "3  2016-08-03T12+04+30_670Z  False\n",
      "4  2016-08-03T12+32+21_790Z  False\n",
      "Size of image label dataFrame: \n",
      "(6758, 2)\n",
      "Shape of original feature representation: \n",
      "(6758, 15, 35)\n",
      "Shape of flat feature representation: \n",
      "(6758, 525)\n",
      "Shape of Y: \n",
      "(6758,)\n",
      "Number of images with planes: \n",
      "101\n",
      "Shape of training set: \n",
      "(5068,)\n",
      "Number of training images that contain an airplane: \n",
      "80\n",
      "Shape of test set: \n",
      "(1690,)\n",
      "Number of test images that contain an airplane: \n",
      "21\n",
      "Shape of data_train and data_test:\n",
      "(5068, 525)\n",
      "(1690, 525)\n",
      "Shape of y_train and y_test:\n",
      "(5068,)\n",
      "(1690,)\n",
      "Shape of imgs_train and imgs_test:\n",
      "(5068,)\n",
      "(1690,)\n",
      "SUCCESS!\n"
     ]
    }
   ],
   "source": [
    "data_train, data_test, y_train, y_test, imgs_train, imgs_test = process_raw_data(l_file, ci_path, \n",
    "    my_random_seed=13, imview=False, test=False)"
   ]
  },
  {
   "cell_type": "markdown",
   "metadata": {},
   "source": [
    "# train Multilayer Perceptron, a.k.a. neural network"
   ]
  },
  {
   "cell_type": "code",
   "execution_count": 8,
   "metadata": {},
   "outputs": [
    {
     "name": "stdout",
     "output_type": "stream",
     "text": [
      "MLPClassifier(alpha=0.0003,\n",
      "              hidden_layer_sizes=(100, 100, 100, 100, 100, 100, 100, 100, 100,\n",
      "                                  100, 100, 100, 50),\n",
      "              max_iter=10000000000000)\n",
      "TRAINING SET 8: \n",
      "{'Pos': 80, 'Neg': 4988, 'TP': 80, 'TN': 4988, 'FP': 0, 'FN': 0, 'Accuracy': 1.0, 'Precision': 1.0, 'Recall': 1.0, 'desc': 'nn8', 'set': 'train'}\n",
      "TEST SET 8: \n",
      "{'Pos': 21, 'Neg': 1669, 'TP': 18, 'TN': 1667, 'FP': 2, 'FN': 3, 'Accuracy': 0.9970414201183432, 'Precision': 0.9, 'Recall': 0.8571428571428571, 'desc': 'nn8', 'set': 'test'}\n"
     ]
    }
   ],
   "source": [
    "from sklearn import neural_network\n",
    "nn8 = neural_network.MLPClassifier(hidden_layer_sizes = (100,100,100,100,100,100,100,100,100,100,100,100,50), alpha = .0003, max_iter=10000000000000)\n",
    "print(nn8)\n",
    "nn8.fit(data_train, y_train)\n",
    "\n",
    "nn8_performance = BinaryClassificationPerformance(nn8.predict(data_train), y_train, 'nn8')\n",
    "nn8_performance.compute_measures()\n",
    "nn8_performance.performance_measures['set'] = 'train'\n",
    "print('TRAINING SET 8: ')\n",
    "print(nn8_performance.performance_measures)\n",
    "\n",
    "nn8_performance_test = BinaryClassificationPerformance(nn8.predict(data_test), y_test, 'nn8')\n",
    "nn8_performance_test.compute_measures()\n",
    "nn8_performance_test.performance_measures['set'] = 'test'\n",
    "print('TEST SET 8: ')\n",
    "print(nn8_performance_test.performance_measures)\n",
    "\n",
    "nn8_performance_test.img_indices()\n",
    "nn8_img_indices_to_view = nn8_performance_test.image_indices"
   ]
  },
  {
   "cell_type": "markdown",
   "metadata": {},
   "source": [
    "# look at examples of neural network classifications"
   ]
  },
  {
   "cell_type": "markdown",
   "metadata": {},
   "source": [
    "## true positives"
   ]
  },
  {
   "cell_type": "code",
   "execution_count": 9,
   "metadata": {},
   "outputs": [],
   "source": [
    "# performance_examples('TP', nn_img_indices_to_view)"
   ]
  },
  {
   "cell_type": "markdown",
   "metadata": {},
   "source": [
    "## false positives"
   ]
  },
  {
   "cell_type": "code",
   "execution_count": 10,
   "metadata": {},
   "outputs": [],
   "source": [
    "# performance_examples('FP', nn_img_indices_to_view)"
   ]
  },
  {
   "cell_type": "markdown",
   "metadata": {},
   "source": [
    "## false negatives"
   ]
  },
  {
   "cell_type": "code",
   "execution_count": 11,
   "metadata": {},
   "outputs": [],
   "source": [
    "# performance_examples('FN', nn_img_indices_to_view)"
   ]
  },
  {
   "cell_type": "markdown",
   "metadata": {},
   "source": [
    "# SUBMISSION\n",
    "\n",
    "### file paths and names:"
   ]
  },
  {
   "cell_type": "code",
   "execution_count": 12,
   "metadata": {},
   "outputs": [],
   "source": [
    "submission_ci_path = '/Users/meeraramesh/Desktop/School/git/ml/final_assignment_2/test_data_for_grading/test_cropped_images/' # file path for cropped images for training\n",
    "submission_l_file = '/Users/meeraramesh/Desktop/School/git/ml/final_assignment_2/test_data_for_grading/test_plane_labels.csv' # file path and file name for csv with labels"
   ]
  },
  {
   "cell_type": "code",
   "execution_count": 13,
   "metadata": {},
   "outputs": [
    {
     "name": "stdout",
     "output_type": "stream",
     "text": [
      "First few lines of image labels: \n",
      "                   img_name\n",
      "0  2016-08-02T13+50+24_430Z\n",
      "1  2016-08-02T14+12+37_390Z\n",
      "2  2016-08-03T12+32+21_790Z\n",
      "3  2016-08-03T13+19+28_320Z\n",
      "4  2016-08-05T15+24+58_670Z\n",
      "Size of image label dataFrame: \n",
      "(1523, 1)\n",
      "Shape of original feature representation: \n",
      "(1523, 15, 35)\n",
      "Shape of flat feature representation: \n",
      "(1523, 525)\n",
      "Shape of X_test for submission:\n",
      "(1523, 525)\n",
      "SUCCESS!\n",
      "Number of rows in the submission test set (should be 1,523): \n"
     ]
    }
   ],
   "source": [
    "X_test_data, X_test_submission = process_raw_data(submission_l_file, submission_ci_path, my_random_seed=13, test=True)\n",
    "print(\"Number of rows in the submission test set (should be 1,523): \")"
   ]
  },
  {
   "cell_type": "markdown",
   "metadata": {},
   "source": [
    "### IMPORTANT CHECK: make sure that the number of columns in your training data is the same as the number of columns in this test submission!"
   ]
  },
  {
   "cell_type": "code",
   "execution_count": 14,
   "metadata": {},
   "outputs": [
    {
     "name": "stdout",
     "output_type": "stream",
     "text": [
      "(5068, 525)\n",
      "(1523, 525)\n"
     ]
    }
   ],
   "source": [
    "print(data_train.shape)\n",
    "print(X_test_data.shape)"
   ]
  },
  {
   "cell_type": "markdown",
   "metadata": {},
   "source": [
    "Both the training set and submission test set have 525 columns. Success!"
   ]
  },
  {
   "cell_type": "markdown",
   "metadata": {},
   "source": [
    "---\n",
    "\n",
    "Choose a *single* model for your submission. In this code, I am choosing the Perceptron model fit, which is in the prc object. But you should choose the model that is performing the best for you!"
   ]
  },
  {
   "cell_type": "code",
   "execution_count": 15,
   "metadata": {},
   "outputs": [
    {
     "name": "stdout",
     "output_type": "stream",
     "text": [
      "0.014445173998686802\n"
     ]
    }
   ],
   "source": [
    "# concatenate predictions to the id\n",
    "X_test_submission[\"prediction\"] = nn8.predict(X_test_data) #neural net w/ hidden_layer_sizes=(100, 100, 100, 100, 100, 100, 100, 100, 100, 100)\n",
    "# look at the proportion of positive predictions\n",
    "print(X_test_submission['prediction'].mean())"
   ]
  },
  {
   "cell_type": "markdown",
   "metadata": {},
   "source": [
    "This is the proportion of predictions that have predicted that there is an airplane in the image."
   ]
  },
  {
   "cell_type": "code",
   "execution_count": 16,
   "metadata": {},
   "outputs": [
    {
     "name": "stdout",
     "output_type": "stream",
     "text": [
      "(1523, 2)\n"
     ]
    }
   ],
   "source": [
    "print(X_test_submission.shape) # should be (1523, 2)"
   ]
  },
  {
   "cell_type": "code",
   "execution_count": 17,
   "metadata": {},
   "outputs": [],
   "source": [
    "# export submission file as pdf\n",
    "# CHANGE FILE PATH: \n",
    "X_test_submission.to_csv('/Users/meeraramesh/Desktop/airplane_submission2.csv', index=False)"
   ]
  },
  {
   "cell_type": "markdown",
   "metadata": {},
   "source": [
    "submission 1 performance"
   ]
  },
  {
   "cell_type": "code",
   "execution_count": 18,
   "metadata": {
    "scrolled": true
   },
   "outputs": [
    {
     "data": {
      "text/plain": [
       "({'Pos': 23,\n",
       "  'Neg': 1500,\n",
       "  'TP': 18,\n",
       "  'TN': 1495,\n",
       "  'FP': 5,\n",
       "  'FN': 5,\n",
       "  'pos': 0.015101772816808929,\n",
       "  'neg': 0.9848982271831911,\n",
       "  'clr': 0.015333333333333332,\n",
       "  'acc': 0.9934340118187788,\n",
       "  'err': 0.006565988181221227,\n",
       "  'tpr': 0.782608695652174,\n",
       "  'tnr': 0.9966666666666667,\n",
       "  'fpr': 0.0033333333333333335,\n",
       "  'fnr': 0.21739130434782608,\n",
       "  'prec': 0.782608695652174,\n",
       "  'name': '1_meera'},)"
      ]
     },
     "execution_count": 18,
     "metadata": {},
     "output_type": "execute_result"
    }
   ],
   "source": [
    "{'Pos': 23, 'Neg': 1500, 'TP': 18, 'TN': 1495, 'FP': 5, 'FN': 5, 'pos': 0.015101772816808929, 'neg': 0.9848982271831911, 'clr': 0.015333333333333332, 'acc': 0.9934340118187788, 'err': 0.006565988181221227, 'tpr': 0.782608695652174, 'tnr': 0.9966666666666667, 'fpr': 0.0033333333333333335, 'fnr': 0.21739130434782608, 'prec': 0.782608695652174, 'name': '1_meera'}, "
   ]
  }
 ],
 "metadata": {
  "kernelspec": {
   "display_name": "Python 3 (ipykernel)",
   "language": "python",
   "name": "python3"
  },
  "language_info": {
   "codemirror_mode": {
    "name": "ipython",
    "version": 3
   },
   "file_extension": ".py",
   "mimetype": "text/x-python",
   "name": "python",
   "nbconvert_exporter": "python",
   "pygments_lexer": "ipython3",
   "version": "3.9.7"
  }
 },
 "nbformat": 4,
 "nbformat_minor": 2
}
