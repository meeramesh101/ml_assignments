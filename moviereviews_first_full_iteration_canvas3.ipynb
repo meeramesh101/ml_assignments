{
 "cells": [
  {
   "cell_type": "markdown",
   "metadata": {},
   "source": [
    "# Movie reviews\n",
    "\n",
    "This notebook takes you though a complete iteration of Machine Learning Assignment 1 - Movie reviews. The assignment details (including links to download the data) can be found [here](https://docs.google.com/document/d/1WGYw99e5q6j5V0Zrf2HveagU6URt_kVvdR8B9HYQ99E/edit?usp=sharing). "
   ]
  },
  {
   "cell_type": "code",
   "execution_count": 4,
   "metadata": {
    "scrolled": true
   },
   "outputs": [],
   "source": [
    "# all imports and magic commands\n",
    "import numpy as np\n",
    "import pandas as pd\n",
    "import matplotlib.pyplot as plt\n",
    "from my_measures import BinaryClassificationPerformance\n",
    "from sklearn.feature_extraction.text import HashingVectorizer\n",
    "from sklearn.feature_extraction.text import TfidfTransformer\n",
    "from scipy.sparse import csr_matrix, hstack\n",
    "from sklearn.preprocessing import StandardScaler\n",
    "from sklearn.model_selection import train_test_split\n",
    "%matplotlib inline"
   ]
  },
  {
   "cell_type": "markdown",
   "metadata": {},
   "source": [
    "### IMPORTANT!!! Make sure you are using `BinaryClassificationPerformance` v1.02"
   ]
  },
  {
   "cell_type": "code",
   "execution_count": 5,
   "metadata": {},
   "outputs": [],
   "source": [
    "# help(BinaryClassificationPerformance)"
   ]
  },
  {
   "cell_type": "markdown",
   "metadata": {},
   "source": [
    "# Function for feature building and extraction on natural language data"
   ]
  },
  {
   "cell_type": "code",
   "execution_count": 6,
   "metadata": {},
   "outputs": [],
   "source": [
    "# function that takes raw data and completes all preprocessing required before model fits\n",
    "def process_raw_data(fn, my_random_seed, test=False):\n",
    "    # read and summarize data\n",
    "    movie_data = pd.read_csv(fn, sep='\\t')\n",
    "#     print(\"movie_data is:\", type(movie_data))\n",
    "#     print(\"movie_data has\", movie_data.shape[0], \"rows and\", movie_data.shape[1], \"columns\", \"\\n\")\n",
    "#     print(\"the data types for each of the columns in movie_data:\")\n",
    "#     print(movie_data.dtypes, \"\\n\")\n",
    "#     print(\"the first 10 rows in movie_data:\")\n",
    "#     print(movie_data.head(5))\n",
    "    if (not test):\n",
    "        print(\"The rate of 'good' movie reviews in the dataset: \")\n",
    "        print(movie_data['sentiment'].mean())\n",
    "\n",
    "    # vectorize Bag of Words from review text; as sparse matrix\n",
    "    if (not test): # fit_transform()\n",
    "        hv = HashingVectorizer(n_features=2 ** 17, alternate_sign=False)\n",
    "        X_hv = hv.fit_transform(movie_data.review)\n",
    "        fitted_transformations.append(hv)\n",
    "        print(\"Shape of HashingVectorizer X:\")\n",
    "        print(X_hv.shape)\n",
    "    else: # transform() \n",
    "        X_hv = fitted_transformations[0].transform(movie_data.review)\n",
    "        print(\"Shape of HashingVectorizer X:\")\n",
    "        print(X_hv.shape) \n",
    "\n",
    "    # http://scikit-learn.org/stable/modules/generated/sklearn.feature_extraction.text.TfidfTransformer.html\n",
    "    if (not test):\n",
    "        transformer = TfidfTransformer()\n",
    "        X_tfidf = transformer.fit_transform(X_hv)\n",
    "        fitted_transformations.append(transformer)\n",
    "    else:\n",
    "        X_tfidf = fitted_transformations[1].transform(X_hv)\n",
    "    \n",
    "    # create additional quantitative features\n",
    "    \n",
    "    # CountVectorizer, modelled on HashingVectorizer above\n",
    "    from sklearn.feature_extraction.text import CountVectorizer\n",
    "    if (not test): # fit_transform()\n",
    "        cv = CountVectorizer(ngram_range=(1, 2))\n",
    "        X_cv = cv.fit_transform(movie_data.review)\n",
    "        fitted_transformations.append(cv)\n",
    "        print(\"Shape of CountVectorizer X:\")\n",
    "        print(X_cv.shape)\n",
    "    else: # transform() \n",
    "        X_cv = fitted_transformations[2].transform(movie_data.review)\n",
    "        print(\"Shape of CountVectorizer X:\")\n",
    "        print(X_cv.shape)\n",
    "    \n",
    "    #TfidfTransformer for CountVectorizer, modelled on TfidfTransformer for HashingVectorizer above    \n",
    "    if (not test):\n",
    "        transformer_cv = TfidfTransformer()\n",
    "        X_tfidf = transformer_cv.fit_transform(X_cv)\n",
    "        fitted_transformations.append(transformer_cv)\n",
    "    else:\n",
    "        X_tfidf = fitted_transformations[3].transform(X_cv) \n",
    "\n",
    "        \n",
    "    # features from Amazon.csv to add to feature set\n",
    "    movie_data['word_count'] = movie_data['review'].str.split(' ').str.len()\n",
    "    movie_data['punc_count'] = movie_data['review'].str.count(\"\\.\")\n",
    "\n",
    "    X_quant_features = movie_data[[\"word_count\", \"punc_count\"]]\n",
    "    print(\"Look at a few rows of the new quantitative features: \")\n",
    "    print(X_quant_features.head(10))\n",
    "    \n",
    "    # Combine all quantitative features into a single sparse matrix\n",
    "    X_quant_features_csr = csr_matrix(X_quant_features)\n",
    "    X_combined = hstack([X_tfidf, X_quant_features_csr])\n",
    "    X_matrix = csr_matrix(X_combined) # convert to sparse matrix\n",
    "    print(\"Size of combined bag of words and new quantitative variables matrix:\")\n",
    "    print(X_matrix.shape)\n",
    "    \n",
    "    # Create `X`, scaled matrix of features\n",
    "    # feature scaling\n",
    "    if (not test):\n",
    "        sc = StandardScaler(with_mean=False)\n",
    "        X = sc.fit_transform(X_matrix)\n",
    "        fitted_transformations.append(sc)\n",
    "        print(X.shape)\n",
    "        y = movie_data['sentiment']\n",
    "    else:\n",
    "        X = fitted_transformations[4].transform(X_matrix)\n",
    "        print(X.shape)\n",
    "    \n",
    "    # Create Training and Test Sets\n",
    "    # enter an integer for the random_state parameter; any integer will work\n",
    "    if (test):\n",
    "        X_submission_test = X\n",
    "        print(\"Shape of X_test for submission:\")\n",
    "        print(X_submission_test.shape)\n",
    "        print('SUCCESS!')\n",
    "        return(movie_data, X_submission_test)\n",
    "    else: \n",
    "        X_train, X_test, y_train, y_test, X_raw_train, X_raw_test = train_test_split(X, y, movie_data, test_size=0.2, random_state=my_random_seed)\n",
    "        print(\"Shape of X_train and X_test:\")\n",
    "        print(X_train.shape)\n",
    "        print(X_test.shape)\n",
    "        print(\"Shape of y_train and y_test:\")\n",
    "        print(y_train.shape)\n",
    "        print(y_test.shape)\n",
    "        print(\"Shape of X_raw_train and X_raw_test:\")\n",
    "        print(X_raw_train.shape)\n",
    "        print(X_raw_test.shape)\n",
    "        print('SUCCESS!')\n",
    "        return(X_train, X_test, y_train, y_test, X_raw_train, X_raw_test)"
   ]
  },
  {
   "cell_type": "markdown",
   "metadata": {},
   "source": [
    "# Create training and test sets from function"
   ]
  },
  {
   "cell_type": "code",
   "execution_count": 7,
   "metadata": {},
   "outputs": [
    {
     "name": "stdout",
     "output_type": "stream",
     "text": [
      "The rate of 'good' movie reviews in the dataset: \n",
      "0.5\n",
      "Shape of HashingVectorizer X:\n",
      "(25000, 131072)\n",
      "Shape of CountVectorizer X:\n",
      "(25000, 1513832)\n",
      "Look at a few rows of the new quantitative features: \n",
      "   word_count  punc_count\n",
      "0         433          20\n",
      "1         158          16\n",
      "2         378          20\n",
      "3         379           8\n",
      "4         367           9\n",
      "5          89           5\n",
      "6         112           9\n",
      "7         132           9\n",
      "8         163           7\n",
      "9          43           5\n",
      "Size of combined bag of words and new quantitative variables matrix:\n",
      "(25000, 1513834)\n",
      "(25000, 1513834)\n",
      "Shape of X_train and X_test:\n",
      "(20000, 1513834)\n",
      "(5000, 1513834)\n",
      "Shape of y_train and y_test:\n",
      "(20000,)\n",
      "(5000,)\n",
      "Shape of X_raw_train and X_raw_test:\n",
      "(20000, 5)\n",
      "(5000, 5)\n",
      "SUCCESS!\n",
      "Number of fits stored in `fitted_transformations` list: \n",
      "5\n"
     ]
    }
   ],
   "source": [
    "# create an empty list to store any use of fit_transform() to transform() later\n",
    "# it is a global list to store model and feature extraction fits\n",
    "fitted_transformations = []\n",
    "\n",
    "# CHANGE FILE PATH and my_random_seed number (any integer other than 74 will do): \n",
    "X_train, X_test, y_train, y_test, X_raw_train, X_raw_test = process_raw_data(fn='/Users/meeraramesh/Desktop/School/git/ml/final_assignment_1/moviereviews_train.tsv', my_random_seed=13)\n",
    "\n",
    "print(\"Number of fits stored in `fitted_transformations` list: \")\n",
    "print(len(fitted_transformations))"
   ]
  },
  {
   "cell_type": "markdown",
   "metadata": {},
   "source": [
    "# Fit (and tune) Various Models"
   ]
  },
  {
   "cell_type": "markdown",
   "metadata": {},
   "source": [
    "### MODEL: ordinary least squares"
   ]
  },
  {
   "cell_type": "code",
   "execution_count": 5,
   "metadata": {},
   "outputs": [],
   "source": [
    "# from sklearn import linear_model\n",
    "# ols = linear_model.SGDClassifier(loss=\"squared_loss\")\n",
    "# ols.fit(X_train, y_train)\n",
    "\n",
    "# ols_performance_train = BinaryClassificationPerformance(ols.predict(X_train), y_train, 'ols_train')\n",
    "# ols_performance_train.compute_measures()\n",
    "# print(ols_performance_train.performance_measures)"
   ]
  },
  {
   "cell_type": "markdown",
   "metadata": {},
   "source": [
    "### MODEL: SVM, linear"
   ]
  },
  {
   "cell_type": "code",
   "execution_count": 8,
   "metadata": {},
   "outputs": [
    {
     "name": "stdout",
     "output_type": "stream",
     "text": [
      "{'Pos': 10002, 'Neg': 9998, 'TP': 10002, 'TN': 9996, 'FP': 2, 'FN': 0, 'Accuracy': 0.9999, 'Precision': 0.9998000799680128, 'Recall': 1.0, 'desc': 'svm_train'}\n"
     ]
    }
   ],
   "source": [
    "from sklearn import linear_model\n",
    "\n",
    "svm = linear_model.SGDClassifier()\n",
    "svm.fit(X_train, y_train)\n",
    "\n",
    "svm_performance_train = BinaryClassificationPerformance(svm.predict(X_train), y_train, 'svm_train')\n",
    "svm_performance_train.compute_measures()\n",
    "print(svm_performance_train.performance_measures)"
   ]
  },
  {
   "cell_type": "markdown",
   "metadata": {},
   "source": [
    "## MODEL: svm.SVC"
   ]
  },
  {
   "cell_type": "code",
   "execution_count": null,
   "metadata": {},
   "outputs": [],
   "source": [
    "# from sklearn import svm\n",
    "\n",
    "# svm_original = svm.SVC()\n",
    "# svm_original.fit(X_train, y_train)\n",
    "\n",
    "# svm_c1 = svm.SVC(C=.01)\n",
    "# svm_c1.fit(X_train, y_train)\n",
    "\n",
    "# svm_c2 = svm.SVC(C=.1)\n",
    "# svm_c2.fit(X_train, y_train)\n",
    "\n",
    "# svm_c3 = svm.SVC(C=2)\n",
    "# svm_c3.fit(X_train, y_train)\n",
    "\n",
    "# svm_c4 = svm.SVC(C=4)\n",
    "# svm_c4.fit(X_train, y_train)\n",
    "\n",
    "# svm_performance_train_original = BinaryClassificationPerformance(svm_original.predict(X_train), y_train, 'svm_train_original')\n",
    "# svm_performance_train_original.compute_measures()\n",
    "# print(svm_performance_train_original.performance_measures)\n",
    "\n",
    "# svm_performance_train_c1 = BinaryClassificationPerformance(svm_c1.predict(X_train), y_train, 'svm_train_c1')\n",
    "# svm_performance_train_c1.compute_measures()\n",
    "# print(svm_performance_train_c1.performance_measures)\n",
    "\n",
    "# svm_performance_train_c2 = BinaryClassificationPerformance(svm_c2.predict(X_train), y_train, 'svm_train_c2')\n",
    "# svm_performance_train_c2.compute_measures()\n",
    "# print(svm_performance_train_c2.performance_measures)\n",
    "\n",
    "# svm_performance_train_c3 = BinaryClassificationPerformance(svm_c3.predict(X_train), y_train, 'svm_train_c3')\n",
    "# svm_performance_train_c3.compute_measures()\n",
    "# print(svm_performance_train_c3.performance_measures)\n",
    "\n",
    "# svm_performance_train_c4 = BinaryClassificationPerformance(svm_c4.predict(X_train), y_train, 'svm_train_c4')\n",
    "# svm_performance_train_c4.compute_measures()\n",
    "# print(svm_performance_train_c4.performance_measures)\n",
    "\n",
    "# #graphs for C changes to svm models on training set data\n",
    "# graphs = [svm_performance_train_original, svm_performance_train_c1, svm_performance_train_c2, svm_performance_train_c3, svm_performance_train_c4]\n",
    "\n",
    "# for graph in graphs:\n",
    "#     plt.plot(graph.performance_measures['FP'] / graph.performance_measures['Neg'], \n",
    "#              graph.performance_measures['TP'] / graph.performance_measures['Pos'], 'bo')\n",
    "#     plt.text(graph.performance_measures['FP'] / graph.performance_measures['Neg'], \n",
    "#              graph.performance_measures['TP'] / graph.performance_measures['Pos'], graph.desc)\n",
    "# plt.axis([0, 1, 0, 1])\n",
    "# plt.title('ROC plot: training set')\n",
    "# plt.xlabel('False positive rate')\n",
    "# plt.ylabel('True positive rate')\n",
    "# plt.show()"
   ]
  },
  {
   "cell_type": "markdown",
   "metadata": {},
   "source": [
    "## MODEL: svm.LinearSVC"
   ]
  },
  {
   "cell_type": "code",
   "execution_count": 23,
   "metadata": {},
   "outputs": [
    {
     "name": "stdout",
     "output_type": "stream",
     "text": [
      "{'Pos': 10002, 'Neg': 9998, 'TP': 10002, 'TN': 9998, 'FP': 0, 'FN': 0, 'Accuracy': 1.0, 'Precision': 1.0, 'Recall': 1.0, 'desc': 'svm_linear_train'}\n",
      "{'Pos': 10002, 'Neg': 9998, 'TP': 10002, 'TN': 9998, 'FP': 0, 'FN': 0, 'Accuracy': 1.0, 'Precision': 1.0, 'Recall': 1.0, 'desc': 'svm_linear_train_c1'}\n",
      "{'Pos': 10002, 'Neg': 9998, 'TP': 10002, 'TN': 9998, 'FP': 0, 'FN': 0, 'Accuracy': 1.0, 'Precision': 1.0, 'Recall': 1.0, 'desc': 'svm_linear_train_c2'}\n",
      "{'Pos': 10002, 'Neg': 9998, 'TP': 10002, 'TN': 9998, 'FP': 0, 'FN': 0, 'Accuracy': 1.0, 'Precision': 1.0, 'Recall': 1.0, 'desc': 'svm_linear_train_c3'}\n",
      "{'Pos': 10002, 'Neg': 9998, 'TP': 10002, 'TN': 9998, 'FP': 0, 'FN': 0, 'Accuracy': 1.0, 'Precision': 1.0, 'Recall': 1.0, 'desc': 'svm_linear_train_c4'}\n"
     ]
    },
    {
     "data": {
      "image/png": "[encoded data removed]",
      "text/plain": [
       "<Figure size 432x288 with 1 Axes>"
      ]
     },
     "metadata": {
      "needs_background": "light"
     },
     "output_type": "display_data"
    }
   ],
   "source": [
    "from sklearn import svm\n",
    "\n",
    "svm_linear = svm.LinearSVC(loss='hinge')\n",
    "svm_linear.fit(X_train, y_train)\n",
    "\n",
    "svm_linear_c1 = svm.LinearSVC(loss='hinge', C=.1)\n",
    "svm_linear_c1.fit(X_train, y_train)\n",
    "\n",
    "svm_linear_c2 = svm.LinearSVC(loss='hinge', C=.075)\n",
    "svm_linear_c2.fit(X_train, y_train)\n",
    "\n",
    "svm_linear_c3 = svm.LinearSVC(loss='hinge', C=2)\n",
    "svm_linear_c3.fit(X_train, y_train)\n",
    "\n",
    "svm_linear_c4 = svm.LinearSVC(loss='hinge', C=10000000)\n",
    "svm_linear_c4.fit(X_train, y_train)\n",
    "\n",
    "svm_linear_performance_train = BinaryClassificationPerformance(svm_linear.predict(X_train), y_train, 'svm_linear_train')\n",
    "svm_linear_performance_train.compute_measures()\n",
    "print(svm_linear_performance_train.performance_measures)\n",
    "\n",
    "svm_linear_performance_train_c1 = BinaryClassificationPerformance(svm_linear_c1.predict(X_train), y_train, 'svm_linear_train_c1')\n",
    "svm_linear_performance_train_c1.compute_measures()\n",
    "print(svm_linear_performance_train_c1.performance_measures)\n",
    "\n",
    "svm_linear_performance_train_c2 = BinaryClassificationPerformance(svm_linear_c2.predict(X_train), y_train, 'svm_linear_train_c2')\n",
    "svm_linear_performance_train_c2.compute_measures()\n",
    "print(svm_linear_performance_train_c2.performance_measures)\n",
    "\n",
    "svm_linear_performance_train_c3 = BinaryClassificationPerformance(svm_linear_c3.predict(X_train), y_train, 'svm_linear_train_c3')\n",
    "svm_linear_performance_train_c3.compute_measures()\n",
    "print(svm_linear_performance_train_c3.performance_measures)\n",
    "\n",
    "svm_linear_performance_train_c4 = BinaryClassificationPerformance(svm_linear_c4.predict(X_train), y_train, 'svm_linear_train_c4')\n",
    "svm_linear_performance_train_c4.compute_measures()\n",
    "print(svm_linear_performance_train_c4.performance_measures)\n",
    "\n",
    "#graphs for C changes to svm models on training set data\n",
    "graphs = [svm_linear_performance_train, svm_linear_performance_train_c1, svm_linear_performance_train_c2, svm_linear_performance_train_c3, svm_linear_performance_train_c4]\n",
    "\n",
    "for graph in graphs:\n",
    "    plt.plot(graph.performance_measures['FP'] / graph.performance_measures['Neg'], \n",
    "             graph.performance_measures['TP'] / graph.performance_measures['Pos'], 'bo')\n",
    "    plt.text(graph.performance_measures['FP'] / graph.performance_measures['Neg'], \n",
    "             graph.performance_measures['TP'] / graph.performance_measures['Pos'], graph.desc)\n",
    "plt.axis([0, 1, 0, 1])\n",
    "plt.title('ROC plot: training set')\n",
    "plt.xlabel('False positive rate')\n",
    "plt.ylabel('True positive rate')\n",
    "plt.show()"
   ]
  },
  {
   "cell_type": "markdown",
   "metadata": {},
   "source": [
    "### MODEL: logistic regression"
   ]
  },
  {
   "cell_type": "code",
   "execution_count": 9,
   "metadata": {},
   "outputs": [],
   "source": [
    "# from sklearn import linear_model\n",
    "# lgs = linear_model.SGDClassifier(loss='log')\n",
    "# lgs.fit(X_train, y_train)\n",
    "\n",
    "# lgs_performance_train = BinaryClassificationPerformance(lgs.predict(X_train), y_train, 'lgs_train')\n",
    "# lgs_performance_train.compute_measures()\n",
    "# print(lgs_performance_train.performance_measures)"
   ]
  },
  {
   "cell_type": "markdown",
   "metadata": {},
   "source": [
    "### MODEL: Naive Bayes"
   ]
  },
  {
   "cell_type": "code",
   "execution_count": 10,
   "metadata": {},
   "outputs": [],
   "source": [
    "# from sklearn.naive_bayes import MultinomialNB\n",
    "# nbs = MultinomialNB()\n",
    "# nbs.fit(X_train, y_train)\n",
    "\n",
    "# nbs_performance_train = BinaryClassificationPerformance(nbs.predict(X_train), y_train, 'nbs_train')\n",
    "# nbs_performance_train.compute_measures()\n",
    "# print(nbs_performance_train.performance_measures)"
   ]
  },
  {
   "cell_type": "markdown",
   "metadata": {},
   "source": [
    "### MODEL: Perceptron"
   ]
  },
  {
   "cell_type": "code",
   "execution_count": 11,
   "metadata": {},
   "outputs": [],
   "source": [
    "# from sklearn import linear_model\n",
    "# prc = linear_model.SGDClassifier(loss='perceptron')\n",
    "# prc.fit(X_train, y_train)\n",
    "\n",
    "# prc_performance_train = BinaryClassificationPerformance(prc.predict(X_train), y_train, 'prc_train')\n",
    "# prc_performance_train.compute_measures()\n",
    "# print(prc_performance_train.performance_measures)"
   ]
  },
  {
   "cell_type": "markdown",
   "metadata": {},
   "source": [
    "### MODEL: Ridge Regression Classifier"
   ]
  },
  {
   "cell_type": "code",
   "execution_count": 12,
   "metadata": {},
   "outputs": [],
   "source": [
    "# from sklearn import linear_model\n",
    "\n",
    "# rdg_original = linear_model.RidgeClassifier()\n",
    "# rdg_original.fit(X_train, y_train)\n",
    "\n",
    "# rdg_alpha1 = linear_model.RidgeClassifier(alpha=10000)\n",
    "# rdg_alpha1.fit(X_train, y_train)\n",
    "\n",
    "# rdg_alpha2 = linear_model.RidgeClassifier(alpha=50000)\n",
    "# rdg_alpha2.fit(X_train, y_train)\n",
    "\n",
    "# rdg_alpha3 = linear_model.RidgeClassifier(alpha=500000)\n",
    "# rdg_alpha3.fit(X_train, y_train)\n",
    "\n",
    "# rdg_alpha4 = linear_model.RidgeClassifier(alpha=1000000)\n",
    "# rdg_alpha4.fit(X_train, y_train)\n",
    "\n",
    "# rdg_performance_train_original = BinaryClassificationPerformance(rdg_original.predict(X_train), y_train, 'rdg_original_train')\n",
    "# rdg_performance_train_original.compute_measures()\n",
    "# print(\"original\") \n",
    "# print(rdg_performance_train_original.performance_measures)\n",
    "\n",
    "# rdg_performance_train_alpha1 = BinaryClassificationPerformance(rdg_alpha1.predict(X_train), y_train, 'rdg_alpha1_train')\n",
    "# rdg_performance_train_alpha1.compute_measures()\n",
    "# print(\"alpha1\")\n",
    "# print(rdg_performance_train_alpha1.performance_measures)\n",
    "\n",
    "# rdg_performance_train_alpha2 = BinaryClassificationPerformance(rdg_alpha2.predict(X_train), y_train, 'rdg_alpha2_train')\n",
    "# rdg_performance_train_alpha2.compute_measures()\n",
    "# print(\"alpha2\")\n",
    "# print(rdg_performance_train_alpha2.performance_measures)\n",
    "\n",
    "# rdg_performance_train_alpha3 = BinaryClassificationPerformance(rdg_alpha3.predict(X_train), y_train, 'rdg_alpha3_train')\n",
    "# rdg_performance_train_alpha3.compute_measures()\n",
    "# print(\"alpha3\")\n",
    "# print(rdg_performance_train_alpha3.performance_measures)\n",
    "\n",
    "# rdg_performance_train_alpha4 = BinaryClassificationPerformance(rdg_alpha4.predict(X_train), y_train, 'rdg_alpha4_train')\n",
    "# rdg_performance_train_alpha4.compute_measures()\n",
    "# print(\"alpha4\")\n",
    "# print(rdg_performance_train_alpha4.performance_measures)\n",
    "\n",
    "# #graphs for alpha changes to ridge class on training set data\n",
    "# graphs = [rdg_performance_train_original, rdg_performance_train_alpha1, rdg_performance_train_alpha2, rdg_performance_train_alpha3, rdg_performance_train_alpha4]\n",
    "\n",
    "# for graph in graphs:\n",
    "#     plt.plot(graph.performance_measures['FP'] / graph.performance_measures['Neg'], \n",
    "#              graph.performance_measures['TP'] / graph.performance_measures['Pos'], 'bo')\n",
    "#     plt.text(graph.performance_measures['FP'] / graph.performance_measures['Neg'], \n",
    "#              graph.performance_measures['TP'] / graph.performance_measures['Pos'], graph.desc)\n",
    "# plt.axis([0, 1, 0, 1])\n",
    "# plt.title('ROC plot: training set')\n",
    "# plt.xlabel('False positive rate')\n",
    "# plt.ylabel('True positive rate')\n",
    "# plt.show()"
   ]
  },
  {
   "cell_type": "markdown",
   "metadata": {},
   "source": [
    "### MODEL: Random Forest Classifier"
   ]
  },
  {
   "cell_type": "code",
   "execution_count": 13,
   "metadata": {},
   "outputs": [],
   "source": [
    "# from sklearn.ensemble import RandomForestClassifier\n",
    "# rdf = RandomForestClassifier(max_depth=2, random_state=0)\n",
    "# rdf.fit(X_train, y_train)\n",
    "\n",
    "# rdf_performance_train = BinaryClassificationPerformance(rdf.predict(X_train), y_train, 'rdf_train')\n",
    "# rdf_performance_train.compute_measures()\n",
    "# print(rdf_performance_train.performance_measures)"
   ]
  },
  {
   "cell_type": "markdown",
   "metadata": {},
   "source": [
    "### ROC plot to compare performance of various models and fits"
   ]
  },
  {
   "cell_type": "code",
   "execution_count": 14,
   "metadata": {
    "scrolled": true
   },
   "outputs": [],
   "source": [
    "# fits = [ols_performance_train, svm_performance_train, lgs_performance_train, nbs_performance_train, prc_performance_train, rdg_performance_train_original, rdf_performance_train]\n",
    "\n",
    "# for fit in fits:\n",
    "#     plt.plot(fit.performance_measures['FP'] / fit.performance_measures['Neg'], \n",
    "#              fit.performance_measures['TP'] / fit.performance_measures['Pos'], 'bo')\n",
    "#     plt.text(fit.performance_measures['FP'] / fit.performance_measures['Neg'], \n",
    "#              fit.performance_measures['TP'] / fit.performance_measures['Pos'], fit.desc)\n",
    "# plt.axis([0, 1, 0, 1])\n",
    "# plt.title('ROC plot: training set')\n",
    "# plt.xlabel('False positive rate')\n",
    "# plt.ylabel('True positive rate')\n",
    "# plt.show()"
   ]
  },
  {
   "cell_type": "markdown",
   "metadata": {},
   "source": [
    "### looking at reviews based on their classification\n",
    "\n",
    "Let's say we decide that Ordinary Least Squares (OLS) Regression is the best model for generalization. Let's take a look at some of the reviews and try to make a (subjective) determination of whether it's generalizing well. "
   ]
  },
  {
   "cell_type": "code",
   "execution_count": 15,
   "metadata": {},
   "outputs": [],
   "source": [
    "# ols_predictions = ols.predict(X_train)"
   ]
  },
  {
   "cell_type": "markdown",
   "metadata": {},
   "source": [
    "### let's look at some false positives:"
   ]
  },
  {
   "cell_type": "code",
   "execution_count": 16,
   "metadata": {},
   "outputs": [],
   "source": [
    "# false positives\n",
    "\n",
    "# print(\"Examples of false positives:\")\n",
    "\n",
    "# import random, time\n",
    "\n",
    "# for i in range(0, len(ols_predictions)):\n",
    "#     if (ols_predictions[i] == 1):\n",
    "#         if (X_raw_train.iloc[i]['sentiment'] == 0):\n",
    "#             if (random.uniform(0, 1) < 0.05): # to print only 5% of the false positives\n",
    "#                 print(i)\n",
    "#                 print(X_raw_train.iloc[i]['review'])\n",
    "#                 print('* * * * * * * * * ')\n"
   ]
  },
  {
   "cell_type": "markdown",
   "metadata": {},
   "source": [
    "---\n",
    "\n",
    "# <span style=\"color:red\">WARNING: Don't look at test set performance too much!</span>\n",
    "\n",
    "---\n",
    "\n",
    "The following cells show performance on your test set. Do not look at this too often! "
   ]
  },
  {
   "cell_type": "markdown",
   "metadata": {},
   "source": [
    "# Look at performance on the test set"
   ]
  },
  {
   "cell_type": "markdown",
   "metadata": {},
   "source": [
    "### MODEL: ordinary least squares"
   ]
  },
  {
   "cell_type": "code",
   "execution_count": 17,
   "metadata": {},
   "outputs": [],
   "source": [
    "# ols_performance_test = BinaryClassificationPerformance(ols.predict(X_test), y_test, 'ols_test')\n",
    "# ols_performance_test.compute_measures()\n",
    "# print(ols_performance_test.performance_measures)"
   ]
  },
  {
   "cell_type": "markdown",
   "metadata": {},
   "source": [
    "### MODEL: SVM, linear"
   ]
  },
  {
   "cell_type": "code",
   "execution_count": 9,
   "metadata": {},
   "outputs": [
    {
     "name": "stdout",
     "output_type": "stream",
     "text": [
      "{'Pos': 2498, 'Neg': 2502, 'TP': 2116, 'TN': 2093, 'FP': 409, 'FN': 382, 'Accuracy': 0.8418, 'Precision': 0.838019801980198, 'Recall': 0.8470776621297038, 'desc': 'svm_test'}\n"
     ]
    }
   ],
   "source": [
    "svm_performance_test = BinaryClassificationPerformance(svm.predict(X_test), y_test, 'svm_test')\n",
    "svm_performance_test.compute_measures()\n",
    "print(svm_performance_test.performance_measures)"
   ]
  },
  {
   "cell_type": "markdown",
   "metadata": {},
   "source": [
    "## MODEL: svm.SVC"
   ]
  },
  {
   "cell_type": "code",
   "execution_count": null,
   "metadata": {},
   "outputs": [],
   "source": [
    "# svm_performance_test_original = BinaryClassificationPerformance(svm_original.predict(X_test), y_test, 'svm_test_original')\n",
    "# svm_performance_test_original.compute_measures()\n",
    "# print(svm_performance_test_original.performance_measures)\n",
    "\n",
    "# svm_performance_test_c1 = BinaryClassificationPerformance(svm_c1.predict(X_test), y_test, 'svm_test_c1')\n",
    "# svm_performance_test_c1.compute_measures()\n",
    "# print(svm_performance_test_c1.performance_measures)\n",
    "\n",
    "# svm_performance_test_c2 = BinaryClassificationPerformance(svm_c2.predict(X_test), y_test, 'svm_test_c2')\n",
    "# svm_performance_test_c2.compute_measures()\n",
    "# print(svm_performance_test_c2.performance_measures)\n",
    "\n",
    "# svm_performance_test_c3 = BinaryClassificationPerformance(svm_c3.predict(X_test), y_test, 'svm_test_c3')\n",
    "# svm_performance_test_c3.compute_measures()\n",
    "# print(svm_performance_test_c3.performance_measures)\n",
    "\n",
    "# svm_performance_test_c4 = BinaryClassificationPerformance(svm_c4.predict(X_test), y_test, 'svm_test_c4')\n",
    "# svm_performance_test_c4.compute_measures()\n",
    "# print(svm_performance_test_c4.performance_measures)\n",
    "\n",
    "# #graphs for C changes to svm models on training set data\n",
    "# graphs = [svm_performance_test_original, svm_performance_test_c1, svm_performance_test_c2, svm_performance_test_c3, svm_performance_test_c4]\n",
    "\n",
    "# for graph in graphs:\n",
    "#     plt.plot(graph.performance_measures['FP'] / graph.performance_measures['Neg'], \n",
    "#              graph.performance_measures['TP'] / graph.performance_measures['Pos'], 'bo')\n",
    "#     plt.text(graph.performance_measures['FP'] / graph.performance_measures['Neg'], \n",
    "#              graph.performance_measures['TP'] / graph.performance_measures['Pos'], graph.desc)\n",
    "# plt.axis([0, 1, 0, 1])\n",
    "# plt.title('ROC plot: training set')\n",
    "# plt.xlabel('False positive rate')\n",
    "# plt.ylabel('True positive rate')\n",
    "# plt.show()"
   ]
  },
  {
   "cell_type": "markdown",
   "metadata": {},
   "source": [
    " ## MODEL: svm.LinearSVC "
   ]
  },
  {
   "cell_type": "code",
   "execution_count": 24,
   "metadata": {},
   "outputs": [
    {
     "name": "stdout",
     "output_type": "stream",
     "text": [
      "{'Pos': 2498, 'Neg': 2502, 'TP': 2274, 'TN': 2248, 'FP': 254, 'FN': 224, 'Accuracy': 0.9044, 'Precision': 0.8995253164556962, 'Recall': 0.910328262610088, 'desc': 'svm_linear_test'}\n",
      "{'Pos': 2498, 'Neg': 2502, 'TP': 2274, 'TN': 2248, 'FP': 254, 'FN': 224, 'Accuracy': 0.9044, 'Precision': 0.8995253164556962, 'Recall': 0.910328262610088, 'desc': 'svm_linear_test_c1'}\n",
      "{'Pos': 2498, 'Neg': 2502, 'TP': 2274, 'TN': 2248, 'FP': 254, 'FN': 224, 'Accuracy': 0.9044, 'Precision': 0.8995253164556962, 'Recall': 0.910328262610088, 'desc': 'svm_linear_test_c2'}\n",
      "{'Pos': 2498, 'Neg': 2502, 'TP': 2274, 'TN': 2248, 'FP': 254, 'FN': 224, 'Accuracy': 0.9044, 'Precision': 0.8995253164556962, 'Recall': 0.910328262610088, 'desc': 'svm_linear_test_c3'}\n",
      "{'Pos': 2498, 'Neg': 2502, 'TP': 2274, 'TN': 2248, 'FP': 254, 'FN': 224, 'Accuracy': 0.9044, 'Precision': 0.8995253164556962, 'Recall': 0.910328262610088, 'desc': 'svm_linear_test_c4'}\n"
     ]
    },
    {
     "data": {
      "image/png": "[encoded data removed]",
      "text/plain": [
       "<Figure size 432x288 with 1 Axes>"
      ]
     },
     "metadata": {
      "needs_background": "light"
     },
     "output_type": "display_data"
    }
   ],
   "source": [
    "svm_linear_performance_test = BinaryClassificationPerformance(svm_linear.predict(X_test), y_test, 'svm_linear_test')\n",
    "svm_linear_performance_test.compute_measures()\n",
    "print(svm_linear_performance_test.performance_measures)\n",
    "\n",
    "svm_linear_performance_test_c1 = BinaryClassificationPerformance(svm_linear_c1.predict(X_test), y_test, 'svm_linear_test_c1')\n",
    "svm_linear_performance_test_c1.compute_measures()\n",
    "print(svm_linear_performance_test_c1.performance_measures)\n",
    "\n",
    "svm_linear_performance_test_c2 = BinaryClassificationPerformance(svm_linear_c2.predict(X_test), y_test, 'svm_linear_test_c2')\n",
    "svm_linear_performance_test_c2.compute_measures()\n",
    "print(svm_linear_performance_test_c2.performance_measures)\n",
    "\n",
    "svm_linear_performance_test_c3 = BinaryClassificationPerformance(svm_linear_c3.predict(X_test), y_test, 'svm_linear_test_c3')\n",
    "svm_linear_performance_test_c3.compute_measures()\n",
    "print(svm_linear_performance_test_c3.performance_measures)\n",
    "\n",
    "svm_linear_performance_test_c4 = BinaryClassificationPerformance(svm_linear_c4.predict(X_test), y_test, 'svm_linear_test_c4')\n",
    "svm_linear_performance_test_c4.compute_measures()\n",
    "print(svm_linear_performance_test_c4.performance_measures)\n",
    "\n",
    "#graphs for C changes to svm models on training set data\n",
    "graphs = [svm_linear_performance_test, svm_linear_performance_test_c1, svm_linear_performance_test_c2, svm_linear_performance_test_c3, svm_linear_performance_test_c4]\n",
    "\n",
    "for graph in graphs:\n",
    "    plt.plot(graph.performance_measures['FP'] / graph.performance_measures['Neg'], \n",
    "             graph.performance_measures['TP'] / graph.performance_measures['Pos'], 'bo')\n",
    "    plt.text(graph.performance_measures['FP'] / graph.performance_measures['Neg'], \n",
    "             graph.performance_measures['TP'] / graph.performance_measures['Pos'], graph.desc)\n",
    "plt.axis([0, 1, 0, 1])\n",
    "plt.title('ROC plot: training set')\n",
    "plt.xlabel('False positive rate')\n",
    "plt.ylabel('True positive rate')\n",
    "plt.show()"
   ]
  },
  {
   "cell_type": "markdown",
   "metadata": {},
   "source": [
    "### MODEL: logistic regression"
   ]
  },
  {
   "cell_type": "code",
   "execution_count": null,
   "metadata": {},
   "outputs": [],
   "source": [
    "# lgs_performance_test = BinaryClassificationPerformance(lgs.predict(X_test), y_test, 'lgs_test')\n",
    "# lgs_performance_test.compute_measures()\n",
    "# print(lgs_performance_test.performance_measures)"
   ]
  },
  {
   "cell_type": "markdown",
   "metadata": {},
   "source": [
    "### MODEL: Naive Bayes"
   ]
  },
  {
   "cell_type": "code",
   "execution_count": null,
   "metadata": {},
   "outputs": [],
   "source": [
    "# nbs_performance_test = BinaryClassificationPerformance(nbs.predict(X_test), y_test, 'nbs_test')\n",
    "# nbs_performance_test.compute_measures()\n",
    "# print(nbs_performance_test.performance_measures)"
   ]
  },
  {
   "cell_type": "markdown",
   "metadata": {},
   "source": [
    "### MODEL: Perceptron"
   ]
  },
  {
   "cell_type": "code",
   "execution_count": null,
   "metadata": {},
   "outputs": [],
   "source": [
    "# prc_performance_test = BinaryClassificationPerformance(prc.predict(X_test), y_test, 'prc_test')\n",
    "# prc_performance_test.compute_measures()\n",
    "# print(prc_performance_test.performance_measures)"
   ]
  },
  {
   "cell_type": "markdown",
   "metadata": {},
   "source": [
    "### MODEL: Ridge Regression Classifier"
   ]
  },
  {
   "cell_type": "code",
   "execution_count": null,
   "metadata": {},
   "outputs": [],
   "source": [
    "# rdg_performance_test_original = BinaryClassificationPerformance(rdg_original.predict(X_test), y_test, 'rdg_original_test')\n",
    "# rdg_performance_test_original.compute_measures()\n",
    "# print(\"original\")\n",
    "# print(rdg_performance_test_original.performance_measures)\n",
    "\n",
    "# rdg_performance_test_alpha1 = BinaryClassificationPerformance(rdg_alpha1.predict(X_test), y_test, 'rdg_alpha1_test')\n",
    "# rdg_performance_test_alpha1.compute_measures()\n",
    "# print(\"alpha1\")\n",
    "# print(rdg_performance_test_alpha1.performance_measures)\n",
    "\n",
    "# rdg_performance_test_alpha2 = BinaryClassificationPerformance(rdg_alpha2.predict(X_test), y_test, 'rdg_alpha2_test')\n",
    "# rdg_performance_test_alpha2.compute_measures()\n",
    "# print(\"alpha2\")\n",
    "# print(rdg_performance_test_alpha2.performance_measures)\n",
    "\n",
    "# rdg_performance_test_alpha3 = BinaryClassificationPerformance(rdg_alpha3.predict(X_test), y_test, 'rdg_alpha3_test')\n",
    "# rdg_performance_test_alpha3.compute_measures()\n",
    "# print(\"alpha3\")\n",
    "# print(rdg_performance_test_alpha3.performance_measures)\n",
    "\n",
    "# rdg_performance_test_alpha4 = BinaryClassificationPerformance(rdg_alpha4.predict(X_test), y_test, 'rdg_alpha4_test')\n",
    "# rdg_performance_test_alpha4.compute_measures()\n",
    "# print(\"alpha4\")\n",
    "# print(rdg_performance_test_alpha4.performance_measures)\n",
    "\n",
    "# # graphs for alpha changes to ridge class on test set data\n",
    "# graphs = [rdg_performance_test_original, rdg_performance_test_alpha1, rdg_performance_test_alpha2, rdg_performance_test_alpha3, rdg_performance_test_alpha4]\n",
    "\n",
    "# for graph in graphs:\n",
    "#     plt.plot(graph.performance_measures['FP'] / graph.performance_measures['Neg'], \n",
    "#              graph.performance_measures['TP'] / graph.performance_measures['Pos'], 'bo')\n",
    "#     plt.text(graph.performance_measures['FP'] / graph.performance_measures['Neg'], \n",
    "#              graph.performance_measures['TP'] / graph.performance_measures['Pos'], graph.desc)\n",
    "# plt.axis([0, 1, 0, 1])\n",
    "# plt.title('ROC plot: test set')\n",
    "# plt.xlabel('False positive rate')\n",
    "# plt.ylabel('True positive rate')\n",
    "# plt.show()\n",
    "\n",
    "# for graph in graphs:\n",
    "#     plt.plot(graph.performance_measures['FP'] / graph.performance_measures['Neg'], \n",
    "#              graph.performance_measures['TP'] / graph.performance_measures['Pos'], 'bo')\n",
    "#     plt.text(graph.performance_measures['FP'] / graph.performance_measures['Neg'], \n",
    "#              graph.performance_measures['TP'] / graph.performance_measures['Pos'], graph.desc)\n",
    "# plt.axis([.1, .13, .85, .95])\n",
    "# plt.title('ROC plot: test set')\n",
    "# plt.xlabel('False positive rate')\n",
    "# plt.ylabel('True positive rate')\n",
    "# plt.show()"
   ]
  },
  {
   "cell_type": "markdown",
   "metadata": {},
   "source": [
    "### MODEL: Random Forest Classifier"
   ]
  },
  {
   "cell_type": "code",
   "execution_count": null,
   "metadata": {},
   "outputs": [],
   "source": [
    "# rdf_performance_test = BinaryClassificationPerformance(rdf.predict(X_test), y_test, 'rdf_test')\n",
    "# rdf_performance_test.compute_measures()\n",
    "# print(rdf_performance_test.performance_measures)"
   ]
  },
  {
   "cell_type": "markdown",
   "metadata": {},
   "source": [
    "### ROC plot to compare performance of various models and fits"
   ]
  },
  {
   "cell_type": "code",
   "execution_count": null,
   "metadata": {},
   "outputs": [],
   "source": [
    "# fits = [ols_performance_test, svm_performance_test, lgs_performance_test, nbs_performance_test, prc_performance_test, rdg_performance_test_original, rdf_performance_test]\n",
    "\n",
    "# for fit in fits:\n",
    "#     plt.plot(fit.performance_measures['FP'] / fit.performance_measures['Neg'], \n",
    "#              fit.performance_measures['TP'] / fit.performance_measures['Pos'], 'bo')\n",
    "#     plt.text(fit.performance_measures['FP'] / fit.performance_measures['Neg'], \n",
    "#              fit.performance_measures['TP'] / fit.performance_measures['Pos'], fit.desc)\n",
    "# plt.axis([0, 1, 0, 1])\n",
    "# plt.title('ROC plot: test set')\n",
    "# plt.xlabel('False positive rate')\n",
    "# plt.ylabel('True positive rate')\n",
    "# plt.show()"
   ]
  },
  {
   "cell_type": "markdown",
   "metadata": {},
   "source": [
    "---\n",
    "\n",
    "# <span style=\"color:red\">SUBMISSION</span>\n",
    "\n",
    "---"
   ]
  },
  {
   "cell_type": "code",
   "execution_count": null,
   "metadata": {},
   "outputs": [],
   "source": [
    "# # read in test data for submission\n",
    "# # CHANGE FILE PATH and my_random_seed number (any integer other than 74 will do): \n",
    "# raw_data, X_test_submission = process_raw_data(fn='/Users/meeraramesh/Desktop/School/git/ml/final_assignment_1/moviereviews_test.tsv', my_random_seed=13, test=True)\n",
    "# print(\"Number of rows in the submission test set (should be 25,000): \")"
   ]
  },
  {
   "cell_type": "markdown",
   "metadata": {},
   "source": [
    "---\n",
    "\n",
    "Choose a <span style=\"color:red\">*single*</span> model for your submission. In this code, I am choosing the Ordinary Least Squares model fit, which is in the `ols` object. But you should choose the model that is performing the best for you! "
   ]
  },
  {
   "cell_type": "code",
   "execution_count": null,
   "metadata": {},
   "outputs": [],
   "source": [
    "# # store the id from the raw data\n",
    "# my_submission = pd.DataFrame(raw_data[\"id\"])\n",
    "# # concatenate predictions to the id\n",
    "# my_submission[\"prediction\"] = rdg_alpha3.predict(X_test_submission)\n",
    "# # look at the proportion of positive predictions\n",
    "# print(my_submission['prediction'].mean())"
   ]
  },
  {
   "cell_type": "code",
   "execution_count": null,
   "metadata": {},
   "outputs": [],
   "source": [
    "# raw_data.head()"
   ]
  },
  {
   "cell_type": "code",
   "execution_count": null,
   "metadata": {},
   "outputs": [],
   "source": [
    "# my_submission.head()"
   ]
  },
  {
   "cell_type": "code",
   "execution_count": null,
   "metadata": {},
   "outputs": [],
   "source": [
    "# my_submission.shape"
   ]
  },
  {
   "cell_type": "code",
   "execution_count": null,
   "metadata": {},
   "outputs": [],
   "source": [
    "# # export submission file as pdf\n",
    "# # CHANGE FILE PATH: \n",
    "# my_submission.to_csv('/Users/meeraramesh/Desktop/moviereviews_submission.csv', index=False)"
   ]
  },
  {
   "cell_type": "markdown",
   "metadata": {},
   "source": [
    "# Submit to Canvas: 1) the CSV file that was written in the previous cell and 2) the url to the repository (GitHub or other) that contains your code and documentation"
   ]
  }
 ],
 "metadata": {
  "kernelspec": {
   "display_name": "Python 3 (ipykernel)",
   "language": "python",
   "name": "python3"
  },
  "language_info": {
   "codemirror_mode": {
    "name": "ipython",
    "version": 3
   },
   "file_extension": ".py",
   "mimetype": "text/x-python",
   "name": "python",
   "nbconvert_exporter": "python",
   "pygments_lexer": "ipython3",
   "version": "3.9.7"
  }
 },
 "nbformat": 4,
 "nbformat_minor": 2
}
